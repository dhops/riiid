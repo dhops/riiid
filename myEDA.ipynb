{
 "cells": [
  {
   "cell_type": "code",
   "execution_count": 1,
   "metadata": {
    "_cell_guid": "b1076dfc-b9ad-4769-8c92-a6c4dae69d19",
    "_kg_hide-input": true,
    "_kg_hide-output": true,
    "_uuid": "8f2839f25d086af736a60e9eeb907d3b93b6e0e5",
    "execution": {
     "iopub.execute_input": "2020-10-11T07:11:23.943177Z",
     "iopub.status.busy": "2020-10-11T07:11:23.942099Z",
     "iopub.status.idle": "2020-10-11T07:11:25.013473Z",
     "shell.execute_reply": "2020-10-11T07:11:25.012762Z"
    },
    "papermill": {
     "duration": 1.137333,
     "end_time": "2020-10-11T07:11:25.013613",
     "exception": false,
     "start_time": "2020-10-11T07:11:23.876280",
     "status": "completed"
    },
    "tags": []
   },
   "outputs": [],
   "source": [
    "import numpy as np # linear algebra\n",
    "import pandas as pd # data processing, CSV file I/O (e.g. pd.read_csv)\n",
    "\n",
    "# Input data files are available in the read-only \"../input/\" directory\n",
    "# For example, running this (by clicking run or pressing Shift+Enter) will list all files under the input directory\n",
    "\n",
    "import os\n",
    "for dirname, _, filenames in os.walk('/kaggle/input'):\n",
    "    for filename in filenames:\n",
    "        print(os.path.join(dirname, filename))\n",
    "        \n",
    "import seaborn as sns\n",
    "import matplotlib.pyplot as plt"
   ]
  },
  {
   "cell_type": "markdown",
   "metadata": {
    "papermill": {
     "duration": 0.056052,
     "end_time": "2020-10-11T07:11:25.127121",
     "exception": false,
     "start_time": "2020-10-11T07:11:25.071069",
     "status": "completed"
    },
    "tags": []
   },
   "source": [
    "This notebook contains an elementary analysis of 'train.csv' and rule based baseline. I will further develop it during the competition.\n",
    "Here I analyze the distributions of different features, generate aggregeted features based on 90% of historical data and then train the model on the rest 10%."
   ]
  },
  {
   "cell_type": "markdown",
   "metadata": {
    "papermill": {
     "duration": 0.05586,
     "end_time": "2020-10-11T07:11:25.240391",
     "exception": false,
     "start_time": "2020-10-11T07:11:25.184531",
     "status": "completed"
    },
    "tags": []
   },
   "source": [
    "My other materials on this competition:\n",
    "- Double validation (against target leakage): https://www.kaggle.com/ilialar/riiid-5-folds-double-validation\n",
    "- Dataset with pretrained models and feature generators: https://www.kaggle.com/ilialar/riiid-models"
   ]
  },
  {
   "cell_type": "markdown",
   "metadata": {
    "_cell_guid": "79c7e3d0-c299-4dcb-8224-4455121ee9b0",
    "_uuid": "d629ff2d2480ee46fbb7e2d37f6b5fab8052498a",
    "papermill": {
     "duration": 0.057186,
     "end_time": "2020-10-11T07:11:25.353824",
     "exception": false,
     "start_time": "2020-10-11T07:11:25.296638",
     "status": "completed"
    },
    "tags": []
   },
   "source": [
    "# Train data"
   ]
  },
  {
   "cell_type": "markdown",
   "metadata": {
    "papermill": {
     "duration": 0.056584,
     "end_time": "2020-10-11T07:11:25.467245",
     "exception": false,
     "start_time": "2020-10-11T07:11:25.410661",
     "status": "completed"
    },
    "tags": []
   },
   "source": [
    "The `train.csv` file is too large for kaggle kernel. You will get a memory error if you try to load it all without specifying types. We will ignore some columns for now to save RAM and load only 10M rows."
   ]
  },
  {
   "cell_type": "code",
   "execution_count": 2,
   "metadata": {
    "execution": {
     "iopub.execute_input": "2020-10-11T07:11:25.589069Z",
     "iopub.status.busy": "2020-10-11T07:11:25.587902Z",
     "iopub.status.idle": "2020-10-11T07:11:25.590823Z",
     "shell.execute_reply": "2020-10-11T07:11:25.591654Z"
    },
    "papermill": {
     "duration": 0.067599,
     "end_time": "2020-10-11T07:11:25.591886",
     "exception": false,
     "start_time": "2020-10-11T07:11:25.524287",
     "status": "completed"
    },
    "tags": []
   },
   "outputs": [],
   "source": [
    "data_types_dict = {\n",
    "    'row_id': 'int64',\n",
    "    'timestamp': 'int64',\n",
    "    'user_id': 'int32',\n",
    "    'content_id': 'int16',\n",
    "    'content_type_id': 'int8',\n",
    "#     'task_container_id': 'int16',\n",
    "#     'user_answer': 'int8',\n",
    "    'answered_correctly': 'int8',\n",
    "    'prior_question_elapsed_time': 'float16',\n",
    "    'prior_question_had_explanation': 'boolean'\n",
    "}"
   ]
  },
  {
   "cell_type": "code",
   "execution_count": 3,
   "metadata": {
    "execution": {
     "iopub.execute_input": "2020-10-11T07:11:25.719940Z",
     "iopub.status.busy": "2020-10-11T07:11:25.718899Z",
     "iopub.status.idle": "2020-10-11T07:11:54.297723Z",
     "shell.execute_reply": "2020-10-11T07:11:54.296936Z"
    },
    "papermill": {
     "duration": 28.645091,
     "end_time": "2020-10-11T07:11:54.297864",
     "exception": false,
     "start_time": "2020-10-11T07:11:25.652773",
     "status": "completed"
    },
    "tags": []
   },
   "outputs": [
    {
     "name": "stderr",
     "output_type": "stream",
     "text": [
      "/Users/danh/anaconda3/lib/python3.7/site-packages/numpy/lib/arraysetops.py:569: FutureWarning: elementwise comparison failed; returning scalar instead, but in the future will perform elementwise comparison\n",
      "  mask |= (ar1 == a)\n"
     ]
    }
   ],
   "source": [
    "train_df = pd.read_csv('~/kaggle/input/riiid-test-answer-prediction/train.csv', \n",
    "                       nrows=10**7,\n",
    "                       usecols = data_types_dict.keys(),\n",
    "                       dtype=data_types_dict, \n",
    "                       index_col = 0)"
   ]
  },
  {
   "cell_type": "markdown",
   "metadata": {
    "papermill": {
     "duration": 0.05732,
     "end_time": "2020-10-11T07:11:54.413636",
     "exception": false,
     "start_time": "2020-10-11T07:11:54.356316",
     "status": "completed"
    },
    "tags": []
   },
   "source": [
    "Let's look at the data and main columns properties:"
   ]
  },
  {
   "cell_type": "code",
   "execution_count": 4,
   "metadata": {
    "execution": {
     "iopub.execute_input": "2020-10-11T07:11:54.544988Z",
     "iopub.status.busy": "2020-10-11T07:11:54.544215Z",
     "iopub.status.idle": "2020-10-11T07:11:54.556303Z",
     "shell.execute_reply": "2020-10-11T07:11:54.555711Z"
    },
    "papermill": {
     "duration": 0.08564,
     "end_time": "2020-10-11T07:11:54.556418",
     "exception": false,
     "start_time": "2020-10-11T07:11:54.470778",
     "status": "completed"
    },
    "tags": []
   },
   "outputs": [
    {
     "data": {
      "text/html": [
       "<div>\n",
       "<style scoped>\n",
       "    .dataframe tbody tr th:only-of-type {\n",
       "        vertical-align: middle;\n",
       "    }\n",
       "\n",
       "    .dataframe tbody tr th {\n",
       "        vertical-align: top;\n",
       "    }\n",
       "\n",
       "    .dataframe thead th {\n",
       "        text-align: right;\n",
       "    }\n",
       "</style>\n",
       "<table border=\"1\" class=\"dataframe\">\n",
       "  <thead>\n",
       "    <tr style=\"text-align: right;\">\n",
       "      <th></th>\n",
       "      <th>timestamp</th>\n",
       "      <th>user_id</th>\n",
       "      <th>content_id</th>\n",
       "      <th>content_type_id</th>\n",
       "      <th>answered_correctly</th>\n",
       "      <th>prior_question_elapsed_time</th>\n",
       "      <th>prior_question_had_explanation</th>\n",
       "    </tr>\n",
       "    <tr>\n",
       "      <th>row_id</th>\n",
       "      <th></th>\n",
       "      <th></th>\n",
       "      <th></th>\n",
       "      <th></th>\n",
       "      <th></th>\n",
       "      <th></th>\n",
       "      <th></th>\n",
       "    </tr>\n",
       "  </thead>\n",
       "  <tbody>\n",
       "    <tr>\n",
       "      <th>9999990</th>\n",
       "      <td>645945001</td>\n",
       "      <td>216747867</td>\n",
       "      <td>6058</td>\n",
       "      <td>0</td>\n",
       "      <td>0</td>\n",
       "      <td>24000.0</td>\n",
       "      <td>True</td>\n",
       "    </tr>\n",
       "    <tr>\n",
       "      <th>9999991</th>\n",
       "      <td>646017531</td>\n",
       "      <td>216747867</td>\n",
       "      <td>8546</td>\n",
       "      <td>0</td>\n",
       "      <td>0</td>\n",
       "      <td>19008.0</td>\n",
       "      <td>True</td>\n",
       "    </tr>\n",
       "    <tr>\n",
       "      <th>9999992</th>\n",
       "      <td>646043267</td>\n",
       "      <td>216747867</td>\n",
       "      <td>5481</td>\n",
       "      <td>0</td>\n",
       "      <td>1</td>\n",
       "      <td>51008.0</td>\n",
       "      <td>True</td>\n",
       "    </tr>\n",
       "    <tr>\n",
       "      <th>9999993</th>\n",
       "      <td>646078767</td>\n",
       "      <td>216747867</td>\n",
       "      <td>5267</td>\n",
       "      <td>0</td>\n",
       "      <td>0</td>\n",
       "      <td>6000.0</td>\n",
       "      <td>True</td>\n",
       "    </tr>\n",
       "    <tr>\n",
       "      <th>9999994</th>\n",
       "      <td>646161049</td>\n",
       "      <td>216747867</td>\n",
       "      <td>6431</td>\n",
       "      <td>0</td>\n",
       "      <td>0</td>\n",
       "      <td>16000.0</td>\n",
       "      <td>True</td>\n",
       "    </tr>\n",
       "    <tr>\n",
       "      <th>9999995</th>\n",
       "      <td>646228695</td>\n",
       "      <td>216747867</td>\n",
       "      <td>8805</td>\n",
       "      <td>0</td>\n",
       "      <td>1</td>\n",
       "      <td>23008.0</td>\n",
       "      <td>True</td>\n",
       "    </tr>\n",
       "    <tr>\n",
       "      <th>9999996</th>\n",
       "      <td>646321314</td>\n",
       "      <td>216747867</td>\n",
       "      <td>5708</td>\n",
       "      <td>0</td>\n",
       "      <td>0</td>\n",
       "      <td>13000.0</td>\n",
       "      <td>True</td>\n",
       "    </tr>\n",
       "    <tr>\n",
       "      <th>9999997</th>\n",
       "      <td>646393443</td>\n",
       "      <td>216747867</td>\n",
       "      <td>5434</td>\n",
       "      <td>0</td>\n",
       "      <td>0</td>\n",
       "      <td>inf</td>\n",
       "      <td>True</td>\n",
       "    </tr>\n",
       "    <tr>\n",
       "      <th>9999998</th>\n",
       "      <td>646445632</td>\n",
       "      <td>216747867</td>\n",
       "      <td>6429</td>\n",
       "      <td>0</td>\n",
       "      <td>1</td>\n",
       "      <td>36992.0</td>\n",
       "      <td>True</td>\n",
       "    </tr>\n",
       "    <tr>\n",
       "      <th>9999999</th>\n",
       "      <td>690225760</td>\n",
       "      <td>216747867</td>\n",
       "      <td>9010</td>\n",
       "      <td>0</td>\n",
       "      <td>1</td>\n",
       "      <td>16000.0</td>\n",
       "      <td>True</td>\n",
       "    </tr>\n",
       "  </tbody>\n",
       "</table>\n",
       "</div>"
      ],
      "text/plain": [
       "         timestamp    user_id  content_id  content_type_id  \\\n",
       "row_id                                                       \n",
       "9999990  645945001  216747867        6058                0   \n",
       "9999991  646017531  216747867        8546                0   \n",
       "9999992  646043267  216747867        5481                0   \n",
       "9999993  646078767  216747867        5267                0   \n",
       "9999994  646161049  216747867        6431                0   \n",
       "9999995  646228695  216747867        8805                0   \n",
       "9999996  646321314  216747867        5708                0   \n",
       "9999997  646393443  216747867        5434                0   \n",
       "9999998  646445632  216747867        6429                0   \n",
       "9999999  690225760  216747867        9010                0   \n",
       "\n",
       "         answered_correctly  prior_question_elapsed_time  \\\n",
       "row_id                                                     \n",
       "9999990                   0                      24000.0   \n",
       "9999991                   0                      19008.0   \n",
       "9999992                   1                      51008.0   \n",
       "9999993                   0                       6000.0   \n",
       "9999994                   0                      16000.0   \n",
       "9999995                   1                      23008.0   \n",
       "9999996                   0                      13000.0   \n",
       "9999997                   0                          inf   \n",
       "9999998                   1                      36992.0   \n",
       "9999999                   1                      16000.0   \n",
       "\n",
       "         prior_question_had_explanation  \n",
       "row_id                                   \n",
       "9999990                            True  \n",
       "9999991                            True  \n",
       "9999992                            True  \n",
       "9999993                            True  \n",
       "9999994                            True  \n",
       "9999995                            True  \n",
       "9999996                            True  \n",
       "9999997                            True  \n",
       "9999998                            True  \n",
       "9999999                            True  "
      ]
     },
     "execution_count": 4,
     "metadata": {},
     "output_type": "execute_result"
    }
   ],
   "source": [
    "train_df.tail(10)"
   ]
  },
  {
   "cell_type": "code",
   "execution_count": 5,
   "metadata": {
    "execution": {
     "iopub.execute_input": "2020-10-11T07:11:54.692102Z",
     "iopub.status.busy": "2020-10-11T07:11:54.691194Z",
     "iopub.status.idle": "2020-10-11T07:11:54.694622Z",
     "shell.execute_reply": "2020-10-11T07:11:54.695224Z"
    },
    "papermill": {
     "duration": 0.080828,
     "end_time": "2020-10-11T07:11:54.695377",
     "exception": false,
     "start_time": "2020-10-11T07:11:54.614549",
     "status": "completed"
    },
    "tags": []
   },
   "outputs": [
    {
     "name": "stdout",
     "output_type": "stream",
     "text": [
      "<class 'pandas.core.frame.DataFrame'>\n",
      "Int64Index: 10000000 entries, 0 to 9999999\n",
      "Data columns (total 7 columns):\n",
      " #   Column                          Dtype  \n",
      "---  ------                          -----  \n",
      " 0   timestamp                       int64  \n",
      " 1   user_id                         int32  \n",
      " 2   content_id                      int16  \n",
      " 3   content_type_id                 int8   \n",
      " 4   answered_correctly              int8   \n",
      " 5   prior_question_elapsed_time     float16\n",
      " 6   prior_question_had_explanation  boolean\n",
      "dtypes: boolean(1), float16(1), int16(1), int32(1), int64(1), int8(2)\n",
      "memory usage: 267.0 MB\n"
     ]
    }
   ],
   "source": [
    "train_df.info()"
   ]
  },
  {
   "cell_type": "code",
   "execution_count": 6,
   "metadata": {
    "execution": {
     "iopub.execute_input": "2020-10-11T07:11:54.971527Z",
     "iopub.status.busy": "2020-10-11T07:11:54.970743Z",
     "iopub.status.idle": "2020-10-11T07:11:57.422386Z",
     "shell.execute_reply": "2020-10-11T07:11:57.421649Z"
    },
    "papermill": {
     "duration": 2.668198,
     "end_time": "2020-10-11T07:11:57.422506",
     "exception": false,
     "start_time": "2020-10-11T07:11:54.754308",
     "status": "completed"
    },
    "tags": []
   },
   "outputs": [
    {
     "data": {
      "text/html": [
       "<div>\n",
       "<style scoped>\n",
       "    .dataframe tbody tr th:only-of-type {\n",
       "        vertical-align: middle;\n",
       "    }\n",
       "\n",
       "    .dataframe tbody tr th {\n",
       "        vertical-align: top;\n",
       "    }\n",
       "\n",
       "    .dataframe thead th {\n",
       "        text-align: right;\n",
       "    }\n",
       "</style>\n",
       "<table border=\"1\" class=\"dataframe\">\n",
       "  <thead>\n",
       "    <tr style=\"text-align: right;\">\n",
       "      <th></th>\n",
       "      <th>timestamp</th>\n",
       "      <th>user_id</th>\n",
       "      <th>content_id</th>\n",
       "      <th>content_type_id</th>\n",
       "      <th>answered_correctly</th>\n",
       "      <th>prior_question_elapsed_time</th>\n",
       "    </tr>\n",
       "  </thead>\n",
       "  <tbody>\n",
       "    <tr>\n",
       "      <th>count</th>\n",
       "      <td>1.000000e+07</td>\n",
       "      <td>1.000000e+07</td>\n",
       "      <td>1.000000e+07</td>\n",
       "      <td>1.000000e+07</td>\n",
       "      <td>1.000000e+07</td>\n",
       "      <td>9765216.0</td>\n",
       "    </tr>\n",
       "    <tr>\n",
       "      <th>mean</th>\n",
       "      <td>7.546528e+09</td>\n",
       "      <td>1.079943e+08</td>\n",
       "      <td>5.209509e+03</td>\n",
       "      <td>1.953960e-02</td>\n",
       "      <td>6.262029e-01</td>\n",
       "      <td>NaN</td>\n",
       "    </tr>\n",
       "    <tr>\n",
       "      <th>std</th>\n",
       "      <td>1.141381e+10</td>\n",
       "      <td>6.311024e+07</td>\n",
       "      <td>3.867783e+03</td>\n",
       "      <td>1.384117e-01</td>\n",
       "      <td>5.226395e-01</td>\n",
       "      <td>NaN</td>\n",
       "    </tr>\n",
       "    <tr>\n",
       "      <th>min</th>\n",
       "      <td>0.000000e+00</td>\n",
       "      <td>1.150000e+02</td>\n",
       "      <td>0.000000e+00</td>\n",
       "      <td>0.000000e+00</td>\n",
       "      <td>-1.000000e+00</td>\n",
       "      <td>0.0</td>\n",
       "    </tr>\n",
       "    <tr>\n",
       "      <th>25%</th>\n",
       "      <td>5.109600e+08</td>\n",
       "      <td>5.398177e+07</td>\n",
       "      <td>2.059000e+03</td>\n",
       "      <td>0.000000e+00</td>\n",
       "      <td>0.000000e+00</td>\n",
       "      <td>16000.0</td>\n",
       "    </tr>\n",
       "    <tr>\n",
       "      <th>50%</th>\n",
       "      <td>2.612310e+09</td>\n",
       "      <td>1.067638e+08</td>\n",
       "      <td>5.016000e+03</td>\n",
       "      <td>0.000000e+00</td>\n",
       "      <td>1.000000e+00</td>\n",
       "      <td>20992.0</td>\n",
       "    </tr>\n",
       "    <tr>\n",
       "      <th>75%</th>\n",
       "      <td>9.751909e+09</td>\n",
       "      <td>1.630735e+08</td>\n",
       "      <td>7.402000e+03</td>\n",
       "      <td>0.000000e+00</td>\n",
       "      <td>1.000000e+00</td>\n",
       "      <td>29664.0</td>\n",
       "    </tr>\n",
       "    <tr>\n",
       "      <th>max</th>\n",
       "      <td>8.470816e+10</td>\n",
       "      <td>2.167479e+08</td>\n",
       "      <td>3.273600e+04</td>\n",
       "      <td>1.000000e+00</td>\n",
       "      <td>1.000000e+00</td>\n",
       "      <td>inf</td>\n",
       "    </tr>\n",
       "  </tbody>\n",
       "</table>\n",
       "</div>"
      ],
      "text/plain": [
       "          timestamp       user_id    content_id  content_type_id  \\\n",
       "count  1.000000e+07  1.000000e+07  1.000000e+07     1.000000e+07   \n",
       "mean   7.546528e+09  1.079943e+08  5.209509e+03     1.953960e-02   \n",
       "std    1.141381e+10  6.311024e+07  3.867783e+03     1.384117e-01   \n",
       "min    0.000000e+00  1.150000e+02  0.000000e+00     0.000000e+00   \n",
       "25%    5.109600e+08  5.398177e+07  2.059000e+03     0.000000e+00   \n",
       "50%    2.612310e+09  1.067638e+08  5.016000e+03     0.000000e+00   \n",
       "75%    9.751909e+09  1.630735e+08  7.402000e+03     0.000000e+00   \n",
       "max    8.470816e+10  2.167479e+08  3.273600e+04     1.000000e+00   \n",
       "\n",
       "       answered_correctly  prior_question_elapsed_time  \n",
       "count        1.000000e+07                    9765216.0  \n",
       "mean         6.262029e-01                          NaN  \n",
       "std          5.226395e-01                          NaN  \n",
       "min         -1.000000e+00                          0.0  \n",
       "25%          0.000000e+00                      16000.0  \n",
       "50%          1.000000e+00                      20992.0  \n",
       "75%          1.000000e+00                      29664.0  \n",
       "max          1.000000e+00                          inf  "
      ]
     },
     "execution_count": 6,
     "metadata": {},
     "output_type": "execute_result"
    }
   ],
   "source": [
    "train_df.describe()"
   ]
  },
  {
   "cell_type": "markdown",
   "metadata": {
    "papermill": {
     "duration": 0.059287,
     "end_time": "2020-10-11T07:11:57.541507",
     "exception": false,
     "start_time": "2020-10-11T07:11:57.482220",
     "status": "completed"
    },
    "tags": []
   },
   "source": [
    "Let's look at some columns more precisely."
   ]
  },
  {
   "cell_type": "markdown",
   "metadata": {
    "papermill": {
     "duration": 0.058994,
     "end_time": "2020-10-11T07:11:57.659810",
     "exception": false,
     "start_time": "2020-10-11T07:11:57.600816",
     "status": "completed"
    },
    "tags": []
   },
   "source": [
    "## timestamp"
   ]
  },
  {
   "cell_type": "code",
   "execution_count": 7,
   "metadata": {
    "execution": {
     "iopub.execute_input": "2020-10-11T07:11:57.784800Z",
     "iopub.status.busy": "2020-10-11T07:11:57.783915Z",
     "iopub.status.idle": "2020-10-11T07:11:58.477587Z",
     "shell.execute_reply": "2020-10-11T07:11:58.478145Z"
    },
    "papermill": {
     "duration": 0.759015,
     "end_time": "2020-10-11T07:11:58.478305",
     "exception": false,
     "start_time": "2020-10-11T07:11:57.719290",
     "status": "completed"
    },
    "tags": []
   },
   "outputs": [
    {
     "data": {
      "text/plain": [
       "<matplotlib.axes._subplots.AxesSubplot at 0x7f831c8c4d10>"
      ]
     },
     "execution_count": 7,
     "metadata": {},
     "output_type": "execute_result"
    },
    {
     "data": {
      "image/png": "[encoded data removed]",
      "text/plain": [
       "<Figure size 432x288 with 1 Axes>"
      ]
     },
     "metadata": {
      "needs_background": "light"
     },
     "output_type": "display_data"
    }
   ],
   "source": [
    "train_df['timestamp'].hist(bins = 100)"
   ]
  },
  {
   "cell_type": "markdown",
   "metadata": {
    "papermill": {
     "duration": 0.060393,
     "end_time": "2020-10-11T07:11:58.600156",
     "exception": false,
     "start_time": "2020-10-11T07:11:58.539763",
     "status": "completed"
    },
    "tags": []
   },
   "source": [
    "`timestamp` represents the time from the first user interaction to the current one. It is expected that the distribution looks like this."
   ]
  },
  {
   "cell_type": "code",
   "execution_count": 8,
   "metadata": {
    "execution": {
     "iopub.execute_input": "2020-10-11T07:11:58.727989Z",
     "iopub.status.busy": "2020-10-11T07:11:58.727200Z",
     "iopub.status.idle": "2020-10-11T07:11:58.730270Z",
     "shell.execute_reply": "2020-10-11T07:11:58.729570Z"
    },
    "papermill": {
     "duration": 0.069142,
     "end_time": "2020-10-11T07:11:58.730396",
     "exception": false,
     "start_time": "2020-10-11T07:11:58.661254",
     "status": "completed"
    },
    "tags": []
   },
   "outputs": [],
   "source": [
    "grouped_by_user_df = train_df.groupby('user_id')"
   ]
  },
  {
   "cell_type": "code",
   "execution_count": 9,
   "metadata": {
    "execution": {
     "iopub.execute_input": "2020-10-11T07:11:58.862909Z",
     "iopub.status.busy": "2020-10-11T07:11:58.862117Z",
     "iopub.status.idle": "2020-10-11T07:11:59.536029Z",
     "shell.execute_reply": "2020-10-11T07:11:59.536713Z"
    },
    "papermill": {
     "duration": 0.745645,
     "end_time": "2020-10-11T07:11:59.536882",
     "exception": false,
     "start_time": "2020-10-11T07:11:58.791237",
     "status": "completed"
    },
    "tags": []
   },
   "outputs": [
    {
     "data": {
      "text/plain": [
       "array([[<matplotlib.axes._subplots.AxesSubplot object at 0x7f82e457cad0>]],\n",
       "      dtype=object)"
      ]
     },
     "execution_count": 9,
     "metadata": {},
     "output_type": "execute_result"
    },
    {
     "data": {
      "image/png": "[encoded data removed]",
      "text/plain": [
       "<Figure size 432x288 with 1 Axes>"
      ]
     },
     "metadata": {
      "needs_background": "light"
     },
     "output_type": "display_data"
    }
   ],
   "source": [
    "grouped_by_user_df.agg({'timestamp': 'max'}).hist(bins = 100)"
   ]
  },
  {
   "cell_type": "code",
   "execution_count": 22,
   "metadata": {},
   "outputs": [],
   "source": [
    "g1 = grouped_by_user_df.get_group(115)"
   ]
  },
  {
   "cell_type": "code",
   "execution_count": 23,
   "metadata": {},
   "outputs": [
    {
     "data": {
      "text/html": [
       "<div>\n",
       "<style scoped>\n",
       "    .dataframe tbody tr th:only-of-type {\n",
       "        vertical-align: middle;\n",
       "    }\n",
       "\n",
       "    .dataframe tbody tr th {\n",
       "        vertical-align: top;\n",
       "    }\n",
       "\n",
       "    .dataframe thead th {\n",
       "        text-align: right;\n",
       "    }\n",
       "</style>\n",
       "<table border=\"1\" class=\"dataframe\">\n",
       "  <thead>\n",
       "    <tr style=\"text-align: right;\">\n",
       "      <th></th>\n",
       "      <th>timestamp</th>\n",
       "      <th>user_id</th>\n",
       "      <th>content_id</th>\n",
       "      <th>content_type_id</th>\n",
       "      <th>answered_correctly</th>\n",
       "      <th>prior_question_elapsed_time</th>\n",
       "      <th>prior_question_had_explanation</th>\n",
       "    </tr>\n",
       "    <tr>\n",
       "      <th>row_id</th>\n",
       "      <th></th>\n",
       "      <th></th>\n",
       "      <th></th>\n",
       "      <th></th>\n",
       "      <th></th>\n",
       "      <th></th>\n",
       "      <th></th>\n",
       "    </tr>\n",
       "  </thead>\n",
       "  <tbody>\n",
       "    <tr>\n",
       "      <th>0</th>\n",
       "      <td>0</td>\n",
       "      <td>115</td>\n",
       "      <td>5692</td>\n",
       "      <td>0</td>\n",
       "      <td>1</td>\n",
       "      <td>NaN</td>\n",
       "      <td>&lt;NA&gt;</td>\n",
       "    </tr>\n",
       "    <tr>\n",
       "      <th>1</th>\n",
       "      <td>56943</td>\n",
       "      <td>115</td>\n",
       "      <td>5716</td>\n",
       "      <td>0</td>\n",
       "      <td>1</td>\n",
       "      <td>36992.0</td>\n",
       "      <td>False</td>\n",
       "    </tr>\n",
       "    <tr>\n",
       "      <th>2</th>\n",
       "      <td>118363</td>\n",
       "      <td>115</td>\n",
       "      <td>128</td>\n",
       "      <td>0</td>\n",
       "      <td>1</td>\n",
       "      <td>55008.0</td>\n",
       "      <td>False</td>\n",
       "    </tr>\n",
       "    <tr>\n",
       "      <th>3</th>\n",
       "      <td>131167</td>\n",
       "      <td>115</td>\n",
       "      <td>7860</td>\n",
       "      <td>0</td>\n",
       "      <td>1</td>\n",
       "      <td>19008.0</td>\n",
       "      <td>False</td>\n",
       "    </tr>\n",
       "    <tr>\n",
       "      <th>4</th>\n",
       "      <td>137965</td>\n",
       "      <td>115</td>\n",
       "      <td>7922</td>\n",
       "      <td>0</td>\n",
       "      <td>1</td>\n",
       "      <td>11000.0</td>\n",
       "      <td>False</td>\n",
       "    </tr>\n",
       "    <tr>\n",
       "      <th>5</th>\n",
       "      <td>157063</td>\n",
       "      <td>115</td>\n",
       "      <td>156</td>\n",
       "      <td>0</td>\n",
       "      <td>1</td>\n",
       "      <td>5000.0</td>\n",
       "      <td>False</td>\n",
       "    </tr>\n",
       "    <tr>\n",
       "      <th>6</th>\n",
       "      <td>176092</td>\n",
       "      <td>115</td>\n",
       "      <td>51</td>\n",
       "      <td>0</td>\n",
       "      <td>1</td>\n",
       "      <td>16992.0</td>\n",
       "      <td>False</td>\n",
       "    </tr>\n",
       "    <tr>\n",
       "      <th>7</th>\n",
       "      <td>194190</td>\n",
       "      <td>115</td>\n",
       "      <td>50</td>\n",
       "      <td>0</td>\n",
       "      <td>1</td>\n",
       "      <td>16992.0</td>\n",
       "      <td>False</td>\n",
       "    </tr>\n",
       "    <tr>\n",
       "      <th>8</th>\n",
       "      <td>212463</td>\n",
       "      <td>115</td>\n",
       "      <td>7896</td>\n",
       "      <td>0</td>\n",
       "      <td>1</td>\n",
       "      <td>16000.0</td>\n",
       "      <td>False</td>\n",
       "    </tr>\n",
       "    <tr>\n",
       "      <th>9</th>\n",
       "      <td>230983</td>\n",
       "      <td>115</td>\n",
       "      <td>7863</td>\n",
       "      <td>0</td>\n",
       "      <td>1</td>\n",
       "      <td>16000.0</td>\n",
       "      <td>False</td>\n",
       "    </tr>\n",
       "    <tr>\n",
       "      <th>10</th>\n",
       "      <td>255381</td>\n",
       "      <td>115</td>\n",
       "      <td>152</td>\n",
       "      <td>0</td>\n",
       "      <td>0</td>\n",
       "      <td>16992.0</td>\n",
       "      <td>False</td>\n",
       "    </tr>\n",
       "    <tr>\n",
       "      <th>11</th>\n",
       "      <td>280033</td>\n",
       "      <td>115</td>\n",
       "      <td>104</td>\n",
       "      <td>0</td>\n",
       "      <td>0</td>\n",
       "      <td>22000.0</td>\n",
       "      <td>False</td>\n",
       "    </tr>\n",
       "    <tr>\n",
       "      <th>12</th>\n",
       "      <td>302994</td>\n",
       "      <td>115</td>\n",
       "      <td>108</td>\n",
       "      <td>0</td>\n",
       "      <td>0</td>\n",
       "      <td>23008.0</td>\n",
       "      <td>False</td>\n",
       "    </tr>\n",
       "    <tr>\n",
       "      <th>13</th>\n",
       "      <td>328686</td>\n",
       "      <td>115</td>\n",
       "      <td>7900</td>\n",
       "      <td>0</td>\n",
       "      <td>1</td>\n",
       "      <td>20992.0</td>\n",
       "      <td>False</td>\n",
       "    </tr>\n",
       "    <tr>\n",
       "      <th>14</th>\n",
       "      <td>352686</td>\n",
       "      <td>115</td>\n",
       "      <td>7901</td>\n",
       "      <td>0</td>\n",
       "      <td>1</td>\n",
       "      <td>24000.0</td>\n",
       "      <td>False</td>\n",
       "    </tr>\n",
       "    <tr>\n",
       "      <th>15</th>\n",
       "      <td>376162</td>\n",
       "      <td>115</td>\n",
       "      <td>7971</td>\n",
       "      <td>0</td>\n",
       "      <td>1</td>\n",
       "      <td>22000.0</td>\n",
       "      <td>False</td>\n",
       "    </tr>\n",
       "    <tr>\n",
       "      <th>16</th>\n",
       "      <td>398020</td>\n",
       "      <td>115</td>\n",
       "      <td>25</td>\n",
       "      <td>0</td>\n",
       "      <td>1</td>\n",
       "      <td>20992.0</td>\n",
       "      <td>False</td>\n",
       "    </tr>\n",
       "    <tr>\n",
       "      <th>17</th>\n",
       "      <td>418008</td>\n",
       "      <td>115</td>\n",
       "      <td>183</td>\n",
       "      <td>0</td>\n",
       "      <td>0</td>\n",
       "      <td>20000.0</td>\n",
       "      <td>False</td>\n",
       "    </tr>\n",
       "    <tr>\n",
       "      <th>18</th>\n",
       "      <td>437272</td>\n",
       "      <td>115</td>\n",
       "      <td>7926</td>\n",
       "      <td>0</td>\n",
       "      <td>1</td>\n",
       "      <td>18000.0</td>\n",
       "      <td>False</td>\n",
       "    </tr>\n",
       "    <tr>\n",
       "      <th>19</th>\n",
       "      <td>468511</td>\n",
       "      <td>115</td>\n",
       "      <td>7927</td>\n",
       "      <td>0</td>\n",
       "      <td>1</td>\n",
       "      <td>16992.0</td>\n",
       "      <td>False</td>\n",
       "    </tr>\n",
       "    <tr>\n",
       "      <th>20</th>\n",
       "      <td>490100</td>\n",
       "      <td>115</td>\n",
       "      <td>4</td>\n",
       "      <td>0</td>\n",
       "      <td>0</td>\n",
       "      <td>28992.0</td>\n",
       "      <td>False</td>\n",
       "    </tr>\n",
       "    <tr>\n",
       "      <th>21</th>\n",
       "      <td>510583</td>\n",
       "      <td>115</td>\n",
       "      <td>7984</td>\n",
       "      <td>0</td>\n",
       "      <td>0</td>\n",
       "      <td>20000.0</td>\n",
       "      <td>False</td>\n",
       "    </tr>\n",
       "    <tr>\n",
       "      <th>22</th>\n",
       "      <td>534187</td>\n",
       "      <td>115</td>\n",
       "      <td>45</td>\n",
       "      <td>0</td>\n",
       "      <td>0</td>\n",
       "      <td>19008.0</td>\n",
       "      <td>False</td>\n",
       "    </tr>\n",
       "    <tr>\n",
       "      <th>23</th>\n",
       "      <td>557677</td>\n",
       "      <td>115</td>\n",
       "      <td>185</td>\n",
       "      <td>0</td>\n",
       "      <td>0</td>\n",
       "      <td>20992.0</td>\n",
       "      <td>False</td>\n",
       "    </tr>\n",
       "    <tr>\n",
       "      <th>24</th>\n",
       "      <td>575289</td>\n",
       "      <td>115</td>\n",
       "      <td>55</td>\n",
       "      <td>0</td>\n",
       "      <td>1</td>\n",
       "      <td>22000.0</td>\n",
       "      <td>False</td>\n",
       "    </tr>\n",
       "    <tr>\n",
       "      <th>25</th>\n",
       "      <td>597863</td>\n",
       "      <td>115</td>\n",
       "      <td>7876</td>\n",
       "      <td>0</td>\n",
       "      <td>1</td>\n",
       "      <td>16000.0</td>\n",
       "      <td>False</td>\n",
       "    </tr>\n",
       "    <tr>\n",
       "      <th>26</th>\n",
       "      <td>621464</td>\n",
       "      <td>115</td>\n",
       "      <td>6</td>\n",
       "      <td>0</td>\n",
       "      <td>1</td>\n",
       "      <td>20000.0</td>\n",
       "      <td>False</td>\n",
       "    </tr>\n",
       "    <tr>\n",
       "      <th>27</th>\n",
       "      <td>645415</td>\n",
       "      <td>115</td>\n",
       "      <td>172</td>\n",
       "      <td>0</td>\n",
       "      <td>1</td>\n",
       "      <td>22000.0</td>\n",
       "      <td>False</td>\n",
       "    </tr>\n",
       "    <tr>\n",
       "      <th>28</th>\n",
       "      <td>670520</td>\n",
       "      <td>115</td>\n",
       "      <td>7898</td>\n",
       "      <td>0</td>\n",
       "      <td>1</td>\n",
       "      <td>22000.0</td>\n",
       "      <td>False</td>\n",
       "    </tr>\n",
       "    <tr>\n",
       "      <th>29</th>\n",
       "      <td>692971</td>\n",
       "      <td>115</td>\n",
       "      <td>175</td>\n",
       "      <td>0</td>\n",
       "      <td>0</td>\n",
       "      <td>23008.0</td>\n",
       "      <td>False</td>\n",
       "    </tr>\n",
       "    <tr>\n",
       "      <th>30</th>\n",
       "      <td>710402</td>\n",
       "      <td>115</td>\n",
       "      <td>100</td>\n",
       "      <td>0</td>\n",
       "      <td>1</td>\n",
       "      <td>20000.0</td>\n",
       "      <td>False</td>\n",
       "    </tr>\n",
       "    <tr>\n",
       "      <th>31</th>\n",
       "      <td>732421</td>\n",
       "      <td>115</td>\n",
       "      <td>7859</td>\n",
       "      <td>0</td>\n",
       "      <td>0</td>\n",
       "      <td>15000.0</td>\n",
       "      <td>False</td>\n",
       "    </tr>\n",
       "    <tr>\n",
       "      <th>32</th>\n",
       "      <td>1219624</td>\n",
       "      <td>115</td>\n",
       "      <td>57</td>\n",
       "      <td>0</td>\n",
       "      <td>1</td>\n",
       "      <td>20000.0</td>\n",
       "      <td>False</td>\n",
       "    </tr>\n",
       "    <tr>\n",
       "      <th>33</th>\n",
       "      <td>1252621</td>\n",
       "      <td>115</td>\n",
       "      <td>7948</td>\n",
       "      <td>0</td>\n",
       "      <td>1</td>\n",
       "      <td>20000.0</td>\n",
       "      <td>True</td>\n",
       "    </tr>\n",
       "    <tr>\n",
       "      <th>34</th>\n",
       "      <td>1284094</td>\n",
       "      <td>115</td>\n",
       "      <td>151</td>\n",
       "      <td>0</td>\n",
       "      <td>1</td>\n",
       "      <td>22000.0</td>\n",
       "      <td>True</td>\n",
       "    </tr>\n",
       "    <tr>\n",
       "      <th>35</th>\n",
       "      <td>1320874</td>\n",
       "      <td>115</td>\n",
       "      <td>167</td>\n",
       "      <td>0</td>\n",
       "      <td>1</td>\n",
       "      <td>19008.0</td>\n",
       "      <td>True</td>\n",
       "    </tr>\n",
       "    <tr>\n",
       "      <th>36</th>\n",
       "      <td>1359412</td>\n",
       "      <td>115</td>\n",
       "      <td>7897</td>\n",
       "      <td>0</td>\n",
       "      <td>0</td>\n",
       "      <td>16992.0</td>\n",
       "      <td>True</td>\n",
       "    </tr>\n",
       "    <tr>\n",
       "      <th>37</th>\n",
       "      <td>1415188</td>\n",
       "      <td>115</td>\n",
       "      <td>7882</td>\n",
       "      <td>0</td>\n",
       "      <td>1</td>\n",
       "      <td>20000.0</td>\n",
       "      <td>True</td>\n",
       "    </tr>\n",
       "    <tr>\n",
       "      <th>38</th>\n",
       "      <td>1468285</td>\n",
       "      <td>115</td>\n",
       "      <td>7962</td>\n",
       "      <td>0</td>\n",
       "      <td>1</td>\n",
       "      <td>16992.0</td>\n",
       "      <td>True</td>\n",
       "    </tr>\n",
       "    <tr>\n",
       "      <th>39</th>\n",
       "      <td>667861680</td>\n",
       "      <td>115</td>\n",
       "      <td>1278</td>\n",
       "      <td>0</td>\n",
       "      <td>1</td>\n",
       "      <td>20992.0</td>\n",
       "      <td>False</td>\n",
       "    </tr>\n",
       "    <tr>\n",
       "      <th>40</th>\n",
       "      <td>667971812</td>\n",
       "      <td>115</td>\n",
       "      <td>2065</td>\n",
       "      <td>0</td>\n",
       "      <td>1</td>\n",
       "      <td>16992.0</td>\n",
       "      <td>False</td>\n",
       "    </tr>\n",
       "    <tr>\n",
       "      <th>41</th>\n",
       "      <td>667971812</td>\n",
       "      <td>115</td>\n",
       "      <td>2064</td>\n",
       "      <td>0</td>\n",
       "      <td>1</td>\n",
       "      <td>16992.0</td>\n",
       "      <td>False</td>\n",
       "    </tr>\n",
       "    <tr>\n",
       "      <th>42</th>\n",
       "      <td>667971812</td>\n",
       "      <td>115</td>\n",
       "      <td>2063</td>\n",
       "      <td>0</td>\n",
       "      <td>0</td>\n",
       "      <td>16992.0</td>\n",
       "      <td>False</td>\n",
       "    </tr>\n",
       "    <tr>\n",
       "      <th>43</th>\n",
       "      <td>668090043</td>\n",
       "      <td>115</td>\n",
       "      <td>3363</td>\n",
       "      <td>0</td>\n",
       "      <td>0</td>\n",
       "      <td>14336.0</td>\n",
       "      <td>False</td>\n",
       "    </tr>\n",
       "    <tr>\n",
       "      <th>44</th>\n",
       "      <td>668090043</td>\n",
       "      <td>115</td>\n",
       "      <td>3365</td>\n",
       "      <td>0</td>\n",
       "      <td>0</td>\n",
       "      <td>14336.0</td>\n",
       "      <td>False</td>\n",
       "    </tr>\n",
       "    <tr>\n",
       "      <th>45</th>\n",
       "      <td>668090043</td>\n",
       "      <td>115</td>\n",
       "      <td>3364</td>\n",
       "      <td>0</td>\n",
       "      <td>1</td>\n",
       "      <td>14336.0</td>\n",
       "      <td>False</td>\n",
       "    </tr>\n",
       "  </tbody>\n",
       "</table>\n",
       "</div>"
      ],
      "text/plain": [
       "        timestamp  user_id  content_id  content_type_id  answered_correctly  \\\n",
       "row_id                                                                        \n",
       "0               0      115        5692                0                   1   \n",
       "1           56943      115        5716                0                   1   \n",
       "2          118363      115         128                0                   1   \n",
       "3          131167      115        7860                0                   1   \n",
       "4          137965      115        7922                0                   1   \n",
       "5          157063      115         156                0                   1   \n",
       "6          176092      115          51                0                   1   \n",
       "7          194190      115          50                0                   1   \n",
       "8          212463      115        7896                0                   1   \n",
       "9          230983      115        7863                0                   1   \n",
       "10         255381      115         152                0                   0   \n",
       "11         280033      115         104                0                   0   \n",
       "12         302994      115         108                0                   0   \n",
       "13         328686      115        7900                0                   1   \n",
       "14         352686      115        7901                0                   1   \n",
       "15         376162      115        7971                0                   1   \n",
       "16         398020      115          25                0                   1   \n",
       "17         418008      115         183                0                   0   \n",
       "18         437272      115        7926                0                   1   \n",
       "19         468511      115        7927                0                   1   \n",
       "20         490100      115           4                0                   0   \n",
       "21         510583      115        7984                0                   0   \n",
       "22         534187      115          45                0                   0   \n",
       "23         557677      115         185                0                   0   \n",
       "24         575289      115          55                0                   1   \n",
       "25         597863      115        7876                0                   1   \n",
       "26         621464      115           6                0                   1   \n",
       "27         645415      115         172                0                   1   \n",
       "28         670520      115        7898                0                   1   \n",
       "29         692971      115         175                0                   0   \n",
       "30         710402      115         100                0                   1   \n",
       "31         732421      115        7859                0                   0   \n",
       "32        1219624      115          57                0                   1   \n",
       "33        1252621      115        7948                0                   1   \n",
       "34        1284094      115         151                0                   1   \n",
       "35        1320874      115         167                0                   1   \n",
       "36        1359412      115        7897                0                   0   \n",
       "37        1415188      115        7882                0                   1   \n",
       "38        1468285      115        7962                0                   1   \n",
       "39      667861680      115        1278                0                   1   \n",
       "40      667971812      115        2065                0                   1   \n",
       "41      667971812      115        2064                0                   1   \n",
       "42      667971812      115        2063                0                   0   \n",
       "43      668090043      115        3363                0                   0   \n",
       "44      668090043      115        3365                0                   0   \n",
       "45      668090043      115        3364                0                   1   \n",
       "\n",
       "        prior_question_elapsed_time  prior_question_had_explanation  \n",
       "row_id                                                               \n",
       "0                               NaN                            <NA>  \n",
       "1                           36992.0                           False  \n",
       "2                           55008.0                           False  \n",
       "3                           19008.0                           False  \n",
       "4                           11000.0                           False  \n",
       "5                            5000.0                           False  \n",
       "6                           16992.0                           False  \n",
       "7                           16992.0                           False  \n",
       "8                           16000.0                           False  \n",
       "9                           16000.0                           False  \n",
       "10                          16992.0                           False  \n",
       "11                          22000.0                           False  \n",
       "12                          23008.0                           False  \n",
       "13                          20992.0                           False  \n",
       "14                          24000.0                           False  \n",
       "15                          22000.0                           False  \n",
       "16                          20992.0                           False  \n",
       "17                          20000.0                           False  \n",
       "18                          18000.0                           False  \n",
       "19                          16992.0                           False  \n",
       "20                          28992.0                           False  \n",
       "21                          20000.0                           False  \n",
       "22                          19008.0                           False  \n",
       "23                          20992.0                           False  \n",
       "24                          22000.0                           False  \n",
       "25                          16000.0                           False  \n",
       "26                          20000.0                           False  \n",
       "27                          22000.0                           False  \n",
       "28                          22000.0                           False  \n",
       "29                          23008.0                           False  \n",
       "30                          20000.0                           False  \n",
       "31                          15000.0                           False  \n",
       "32                          20000.0                           False  \n",
       "33                          20000.0                            True  \n",
       "34                          22000.0                            True  \n",
       "35                          19008.0                            True  \n",
       "36                          16992.0                            True  \n",
       "37                          20000.0                            True  \n",
       "38                          16992.0                            True  \n",
       "39                          20992.0                           False  \n",
       "40                          16992.0                           False  \n",
       "41                          16992.0                           False  \n",
       "42                          16992.0                           False  \n",
       "43                          14336.0                           False  \n",
       "44                          14336.0                           False  \n",
       "45                          14336.0                           False  "
      ]
     },
     "execution_count": 23,
     "metadata": {},
     "output_type": "execute_result"
    }
   ],
   "source": [
    "g1"
   ]
  },
  {
   "cell_type": "code",
   "execution_count": 18,
   "metadata": {},
   "outputs": [
    {
     "data": {
      "text/html": [
       "<div>\n",
       "<style scoped>\n",
       "    .dataframe tbody tr th:only-of-type {\n",
       "        vertical-align: middle;\n",
       "    }\n",
       "\n",
       "    .dataframe tbody tr th {\n",
       "        vertical-align: top;\n",
       "    }\n",
       "\n",
       "    .dataframe thead th {\n",
       "        text-align: right;\n",
       "    }\n",
       "</style>\n",
       "<table border=\"1\" class=\"dataframe\">\n",
       "  <thead>\n",
       "    <tr style=\"text-align: right;\">\n",
       "      <th></th>\n",
       "      <th>timestamp</th>\n",
       "      <th>user_id</th>\n",
       "      <th>content_id</th>\n",
       "      <th>content_type_id</th>\n",
       "      <th>answered_correctly</th>\n",
       "      <th>prior_question_elapsed_time</th>\n",
       "      <th>prior_question_had_explanation</th>\n",
       "    </tr>\n",
       "    <tr>\n",
       "      <th>row_id</th>\n",
       "      <th></th>\n",
       "      <th></th>\n",
       "      <th></th>\n",
       "      <th></th>\n",
       "      <th></th>\n",
       "      <th></th>\n",
       "      <th></th>\n",
       "    </tr>\n",
       "  </thead>\n",
       "  <tbody>\n",
       "    <tr>\n",
       "      <th>0</th>\n",
       "      <td>0</td>\n",
       "      <td>115</td>\n",
       "      <td>5692</td>\n",
       "      <td>0</td>\n",
       "      <td>1</td>\n",
       "      <td>NaN</td>\n",
       "      <td>&lt;NA&gt;</td>\n",
       "    </tr>\n",
       "    <tr>\n",
       "      <th>1</th>\n",
       "      <td>56943</td>\n",
       "      <td>115</td>\n",
       "      <td>5716</td>\n",
       "      <td>0</td>\n",
       "      <td>1</td>\n",
       "      <td>36992.0</td>\n",
       "      <td>False</td>\n",
       "    </tr>\n",
       "    <tr>\n",
       "      <th>2</th>\n",
       "      <td>118363</td>\n",
       "      <td>115</td>\n",
       "      <td>128</td>\n",
       "      <td>0</td>\n",
       "      <td>1</td>\n",
       "      <td>55008.0</td>\n",
       "      <td>False</td>\n",
       "    </tr>\n",
       "    <tr>\n",
       "      <th>3</th>\n",
       "      <td>131167</td>\n",
       "      <td>115</td>\n",
       "      <td>7860</td>\n",
       "      <td>0</td>\n",
       "      <td>1</td>\n",
       "      <td>19008.0</td>\n",
       "      <td>False</td>\n",
       "    </tr>\n",
       "    <tr>\n",
       "      <th>4</th>\n",
       "      <td>137965</td>\n",
       "      <td>115</td>\n",
       "      <td>7922</td>\n",
       "      <td>0</td>\n",
       "      <td>1</td>\n",
       "      <td>11000.0</td>\n",
       "      <td>False</td>\n",
       "    </tr>\n",
       "    <tr>\n",
       "      <th>...</th>\n",
       "      <td>...</td>\n",
       "      <td>...</td>\n",
       "      <td>...</td>\n",
       "      <td>...</td>\n",
       "      <td>...</td>\n",
       "      <td>...</td>\n",
       "      <td>...</td>\n",
       "    </tr>\n",
       "    <tr>\n",
       "      <th>9998958</th>\n",
       "      <td>0</td>\n",
       "      <td>216747867</td>\n",
       "      <td>4167</td>\n",
       "      <td>0</td>\n",
       "      <td>1</td>\n",
       "      <td>NaN</td>\n",
       "      <td>&lt;NA&gt;</td>\n",
       "    </tr>\n",
       "    <tr>\n",
       "      <th>9998959</th>\n",
       "      <td>25393</td>\n",
       "      <td>216747867</td>\n",
       "      <td>8290</td>\n",
       "      <td>0</td>\n",
       "      <td>1</td>\n",
       "      <td>20992.0</td>\n",
       "      <td>False</td>\n",
       "    </tr>\n",
       "    <tr>\n",
       "      <th>9998960</th>\n",
       "      <td>78258</td>\n",
       "      <td>216747867</td>\n",
       "      <td>4706</td>\n",
       "      <td>0</td>\n",
       "      <td>0</td>\n",
       "      <td>20000.0</td>\n",
       "      <td>False</td>\n",
       "    </tr>\n",
       "    <tr>\n",
       "      <th>9998961</th>\n",
       "      <td>126667</td>\n",
       "      <td>216747867</td>\n",
       "      <td>3613</td>\n",
       "      <td>0</td>\n",
       "      <td>0</td>\n",
       "      <td>48992.0</td>\n",
       "      <td>False</td>\n",
       "    </tr>\n",
       "    <tr>\n",
       "      <th>9998962</th>\n",
       "      <td>170809</td>\n",
       "      <td>216747867</td>\n",
       "      <td>5182</td>\n",
       "      <td>0</td>\n",
       "      <td>0</td>\n",
       "      <td>44992.0</td>\n",
       "      <td>False</td>\n",
       "    </tr>\n",
       "  </tbody>\n",
       "</table>\n",
       "<p>197369 rows × 7 columns</p>\n",
       "</div>"
      ],
      "text/plain": [
       "         timestamp    user_id  content_id  content_type_id  \\\n",
       "row_id                                                       \n",
       "0                0        115        5692                0   \n",
       "1            56943        115        5716                0   \n",
       "2           118363        115         128                0   \n",
       "3           131167        115        7860                0   \n",
       "4           137965        115        7922                0   \n",
       "...            ...        ...         ...              ...   \n",
       "9998958          0  216747867        4167                0   \n",
       "9998959      25393  216747867        8290                0   \n",
       "9998960      78258  216747867        4706                0   \n",
       "9998961     126667  216747867        3613                0   \n",
       "9998962     170809  216747867        5182                0   \n",
       "\n",
       "         answered_correctly  prior_question_elapsed_time  \\\n",
       "row_id                                                     \n",
       "0                         1                          NaN   \n",
       "1                         1                      36992.0   \n",
       "2                         1                      55008.0   \n",
       "3                         1                      19008.0   \n",
       "4                         1                      11000.0   \n",
       "...                     ...                          ...   \n",
       "9998958                   1                          NaN   \n",
       "9998959                   1                      20992.0   \n",
       "9998960                   0                      20000.0   \n",
       "9998961                   0                      48992.0   \n",
       "9998962                   0                      44992.0   \n",
       "\n",
       "         prior_question_had_explanation  \n",
       "row_id                                   \n",
       "0                                  <NA>  \n",
       "1                                 False  \n",
       "2                                 False  \n",
       "3                                 False  \n",
       "4                                 False  \n",
       "...                                 ...  \n",
       "9998958                            <NA>  \n",
       "9998959                           False  \n",
       "9998960                           False  \n",
       "9998961                           False  \n",
       "9998962                           False  \n",
       "\n",
       "[197369 rows x 7 columns]"
      ]
     },
     "execution_count": 18,
     "metadata": {},
     "output_type": "execute_result"
    }
   ],
   "source": [
    "grouped_by_user_df.head()"
   ]
  },
  {
   "cell_type": "raw",
   "metadata": {
    "papermill": {
     "duration": 0.062071,
     "end_time": "2020-10-11T07:11:59.661894",
     "exception": false,
     "start_time": "2020-10-11T07:11:59.599823",
     "status": "completed"
    },
    "tags": []
   },
   "source": [
    "The distribution of the max timestamp for each user looks similar. It seems most users leave the platform quite soon (at least based on partial data we analyze)."
   ]
  },
  {
   "cell_type": "markdown",
   "metadata": {
    "papermill": {
     "duration": 0.062305,
     "end_time": "2020-10-11T07:11:59.786253",
     "exception": false,
     "start_time": "2020-10-11T07:11:59.723948",
     "status": "completed"
    },
    "tags": []
   },
   "source": [
    "## Answered correctly"
   ]
  },
  {
   "cell_type": "code",
   "execution_count": 13,
   "metadata": {
    "execution": {
     "iopub.execute_input": "2020-10-11T07:11:59.919478Z",
     "iopub.status.busy": "2020-10-11T07:11:59.918346Z",
     "iopub.status.idle": "2020-10-11T07:11:59.956194Z",
     "shell.execute_reply": "2020-10-11T07:11:59.955436Z"
    },
    "papermill": {
     "duration": 0.106849,
     "end_time": "2020-10-11T07:11:59.956316",
     "exception": false,
     "start_time": "2020-10-11T07:11:59.849467",
     "status": "completed"
    },
    "tags": []
   },
   "outputs": [
    {
     "data": {
      "text/plain": [
       "0.0195396"
      ]
     },
     "execution_count": 13,
     "metadata": {},
     "output_type": "execute_result"
    }
   ],
   "source": [
    "(train_df['answered_correctly']==-1).mean()"
   ]
  },
  {
   "cell_type": "markdown",
   "metadata": {
    "papermill": {
     "duration": 0.063,
     "end_time": "2020-10-11T07:12:00.082497",
     "exception": false,
     "start_time": "2020-10-11T07:12:00.019497",
     "status": "completed"
    },
    "tags": []
   },
   "source": [
    "~2% of activities are lectures, we should exclude them for answers analysis."
   ]
  },
  {
   "cell_type": "code",
   "execution_count": 14,
   "metadata": {
    "execution": {
     "iopub.execute_input": "2020-10-11T07:12:00.237817Z",
     "iopub.status.busy": "2020-10-11T07:12:00.236991Z",
     "iopub.status.idle": "2020-10-11T07:12:00.732790Z",
     "shell.execute_reply": "2020-10-11T07:12:00.731773Z"
    },
    "papermill": {
     "duration": 0.585429,
     "end_time": "2020-10-11T07:12:00.732973",
     "exception": false,
     "start_time": "2020-10-11T07:12:00.147544",
     "status": "completed"
    },
    "tags": []
   },
   "outputs": [
    {
     "data": {
      "text/plain": [
       "0.6586115053703342"
      ]
     },
     "execution_count": 14,
     "metadata": {},
     "output_type": "execute_result"
    }
   ],
   "source": [
    "train_questions_only_df = train_df[train_df['answered_correctly']!=-1]\n",
    "train_questions_only_df['answered_correctly'].mean()"
   ]
  },
  {
   "cell_type": "markdown",
   "metadata": {
    "papermill": {
     "duration": 0.064423,
     "end_time": "2020-10-11T07:12:00.865919",
     "exception": false,
     "start_time": "2020-10-11T07:12:00.801496",
     "status": "completed"
    },
    "tags": []
   },
   "source": [
    "On average users answer ~66% questions correctly. Let's look how it is different from user to user."
   ]
  },
  {
   "cell_type": "markdown",
   "metadata": {
    "papermill": {
     "duration": 0.074926,
     "end_time": "2020-10-11T07:12:01.017961",
     "exception": false,
     "start_time": "2020-10-11T07:12:00.943035",
     "status": "completed"
    },
    "tags": []
   },
   "source": [
    "### Answers by users"
   ]
  },
  {
   "cell_type": "code",
   "execution_count": 15,
   "metadata": {
    "execution": {
     "iopub.execute_input": "2020-10-11T07:12:01.154502Z",
     "iopub.status.busy": "2020-10-11T07:12:01.153602Z",
     "iopub.status.idle": "2020-10-11T07:12:01.156962Z",
     "shell.execute_reply": "2020-10-11T07:12:01.156232Z"
    },
    "papermill": {
     "duration": 0.072811,
     "end_time": "2020-10-11T07:12:01.157081",
     "exception": false,
     "start_time": "2020-10-11T07:12:01.084270",
     "status": "completed"
    },
    "tags": []
   },
   "outputs": [],
   "source": [
    "grouped_by_user_df = train_questions_only_df.groupby('user_id')"
   ]
  },
  {
   "cell_type": "code",
   "execution_count": 16,
   "metadata": {
    "execution": {
     "iopub.execute_input": "2020-10-11T07:12:01.292035Z",
     "iopub.status.busy": "2020-10-11T07:12:01.290857Z",
     "iopub.status.idle": "2020-10-11T07:12:02.871958Z",
     "shell.execute_reply": "2020-10-11T07:12:02.871236Z"
    },
    "papermill": {
     "duration": 1.651323,
     "end_time": "2020-10-11T07:12:02.872077",
     "exception": false,
     "start_time": "2020-10-11T07:12:01.220754",
     "status": "completed"
    },
    "tags": []
   },
   "outputs": [
    {
     "data": {
      "text/plain": [
       "<matplotlib.axes._subplots.AxesSubplot at 0x7fdd8df4d150>"
      ]
     },
     "execution_count": 16,
     "metadata": {},
     "output_type": "execute_result"
    },
    {
     "data": {
      "image/png": "[encoded data removed]",
      "text/plain": [
       "<Figure size 432x288 with 1 Axes>"
      ]
     },
     "metadata": {
      "needs_background": "light"
     },
     "output_type": "display_data"
    }
   ],
   "source": [
    "user_answers_df = grouped_by_user_df.agg({'answered_correctly': ['mean', 'count'] })\n",
    "\n",
    "user_answers_df[('answered_correctly','mean')].hist(bins = 100)"
   ]
  },
  {
   "cell_type": "markdown",
   "metadata": {
    "papermill": {
     "duration": 0.064798,
     "end_time": "2020-10-11T07:12:03.002072",
     "exception": false,
     "start_time": "2020-10-11T07:12:02.937274",
     "status": "completed"
    },
    "tags": []
   },
   "source": [
    "Look's noisy, let's clear it a little bit"
   ]
  },
  {
   "cell_type": "code",
   "execution_count": 17,
   "metadata": {
    "execution": {
     "iopub.execute_input": "2020-10-11T07:12:03.145042Z",
     "iopub.status.busy": "2020-10-11T07:12:03.144127Z",
     "iopub.status.idle": "2020-10-11T07:12:03.552705Z",
     "shell.execute_reply": "2020-10-11T07:12:03.553295Z"
    },
    "papermill": {
     "duration": 0.486533,
     "end_time": "2020-10-11T07:12:03.553448",
     "exception": false,
     "start_time": "2020-10-11T07:12:03.066915",
     "status": "completed"
    },
    "tags": []
   },
   "outputs": [
    {
     "data": {
      "text/plain": [
       "<matplotlib.axes._subplots.AxesSubplot at 0x7fdd8df4d390>"
      ]
     },
     "execution_count": 17,
     "metadata": {},
     "output_type": "execute_result"
    },
    {
     "data": {
      "image/png": "[encoded data removed]",
      "text/plain": [
       "<Figure size 432x288 with 1 Axes>"
      ]
     },
     "metadata": {
      "needs_background": "light"
     },
     "output_type": "display_data"
    }
   ],
   "source": [
    "user_answers_df[('answered_correctly','count')].hist(bins = 100)"
   ]
  },
  {
   "cell_type": "code",
   "execution_count": 18,
   "metadata": {
    "execution": {
     "iopub.execute_input": "2020-10-11T07:12:03.693328Z",
     "iopub.status.busy": "2020-10-11T07:12:03.692251Z",
     "iopub.status.idle": "2020-10-11T07:12:03.698315Z",
     "shell.execute_reply": "2020-10-11T07:12:03.698898Z"
    },
    "papermill": {
     "duration": 0.079277,
     "end_time": "2020-10-11T07:12:03.699065",
     "exception": false,
     "start_time": "2020-10-11T07:12:03.619788",
     "status": "completed"
    },
    "tags": []
   },
   "outputs": [
    {
     "data": {
      "text/plain": [
       "0.5425539996454889"
      ]
     },
     "execution_count": 18,
     "metadata": {},
     "output_type": "execute_result"
    }
   ],
   "source": [
    "(user_answers_df[('answered_correctly','count')]< 50).mean()"
   ]
  },
  {
   "cell_type": "markdown",
   "metadata": {
    "papermill": {
     "duration": 0.066973,
     "end_time": "2020-10-11T07:12:03.833111",
     "exception": false,
     "start_time": "2020-10-11T07:12:03.766138",
     "status": "completed"
    },
    "tags": []
   },
   "source": [
    "54% of users answered less than 50 questions. Let's divide all users into novices and active users."
   ]
  },
  {
   "cell_type": "code",
   "execution_count": 19,
   "metadata": {
    "execution": {
     "iopub.execute_input": "2020-10-11T07:12:03.974715Z",
     "iopub.status.busy": "2020-10-11T07:12:03.973928Z",
     "iopub.status.idle": "2020-10-11T07:12:03.980794Z",
     "shell.execute_reply": "2020-10-11T07:12:03.980044Z"
    },
    "papermill": {
     "duration": 0.081024,
     "end_time": "2020-10-11T07:12:03.980926",
     "exception": false,
     "start_time": "2020-10-11T07:12:03.899902",
     "status": "completed"
    },
    "tags": []
   },
   "outputs": [
    {
     "data": {
      "text/plain": [
       "0.4807905823433236"
      ]
     },
     "execution_count": 19,
     "metadata": {},
     "output_type": "execute_result"
    }
   ],
   "source": [
    "user_answers_df[user_answers_df[('answered_correctly','count')]< 50][('answered_correctly','mean')].mean()"
   ]
  },
  {
   "cell_type": "code",
   "execution_count": 20,
   "metadata": {
    "execution": {
     "iopub.execute_input": "2020-10-11T07:12:04.123066Z",
     "iopub.status.busy": "2020-10-11T07:12:04.122287Z",
     "iopub.status.idle": "2020-10-11T07:12:04.524807Z",
     "shell.execute_reply": "2020-10-11T07:12:04.525399Z"
    },
    "papermill": {
     "duration": 0.476843,
     "end_time": "2020-10-11T07:12:04.525568",
     "exception": false,
     "start_time": "2020-10-11T07:12:04.048725",
     "status": "completed"
    },
    "tags": []
   },
   "outputs": [
    {
     "data": {
      "text/plain": [
       "<matplotlib.axes._subplots.AxesSubplot at 0x7fddc64c6b90>"
      ]
     },
     "execution_count": 20,
     "metadata": {},
     "output_type": "execute_result"
    },
    {
     "data": {
      "image/png": "[encoded data removed]",
      "text/plain": [
       "<Figure size 432x288 with 1 Axes>"
      ]
     },
     "metadata": {
      "needs_background": "light"
     },
     "output_type": "display_data"
    }
   ],
   "source": [
    "user_answers_df[user_answers_df[('answered_correctly','count')]< 50][('answered_correctly','mean')].hist(bins = 100)"
   ]
  },
  {
   "cell_type": "code",
   "execution_count": 21,
   "metadata": {
    "execution": {
     "iopub.execute_input": "2020-10-11T07:12:04.673407Z",
     "iopub.status.busy": "2020-10-11T07:12:04.672554Z",
     "iopub.status.idle": "2020-10-11T07:12:05.068313Z",
     "shell.execute_reply": "2020-10-11T07:12:05.067557Z"
    },
    "papermill": {
     "duration": 0.472908,
     "end_time": "2020-10-11T07:12:05.068435",
     "exception": false,
     "start_time": "2020-10-11T07:12:04.595527",
     "status": "completed"
    },
    "tags": []
   },
   "outputs": [
    {
     "data": {
      "text/plain": [
       "<matplotlib.axes._subplots.AxesSubplot at 0x7fdd679446d0>"
      ]
     },
     "execution_count": 21,
     "metadata": {},
     "output_type": "execute_result"
    },
    {
     "data": {
      "image/png": "[encoded data removed]",
      "text/plain": [
       "<Figure size 432x288 with 1 Axes>"
      ]
     },
     "metadata": {
      "needs_background": "light"
     },
     "output_type": "display_data"
    }
   ],
   "source": [
    "user_answers_df[user_answers_df[('answered_correctly','count')] >= 50][('answered_correctly','mean')].hist(bins = 100)"
   ]
  },
  {
   "cell_type": "code",
   "execution_count": 22,
   "metadata": {
    "execution": {
     "iopub.execute_input": "2020-10-11T07:12:05.220490Z",
     "iopub.status.busy": "2020-10-11T07:12:05.219381Z",
     "iopub.status.idle": "2020-10-11T07:12:05.226691Z",
     "shell.execute_reply": "2020-10-11T07:12:05.225965Z"
    },
    "papermill": {
     "duration": 0.087021,
     "end_time": "2020-10-11T07:12:05.226815",
     "exception": false,
     "start_time": "2020-10-11T07:12:05.139794",
     "status": "completed"
    },
    "tags": []
   },
   "outputs": [
    {
     "data": {
      "text/plain": [
       "0.6237197253011861"
      ]
     },
     "execution_count": 22,
     "metadata": {},
     "output_type": "execute_result"
    }
   ],
   "source": [
    "user_answers_df[user_answers_df[('answered_correctly','count')] >= 50][('answered_correctly','mean')].mean()"
   ]
  },
  {
   "cell_type": "markdown",
   "metadata": {
    "papermill": {
     "duration": 0.072501,
     "end_time": "2020-10-11T07:12:05.370443",
     "exception": false,
     "start_time": "2020-10-11T07:12:05.297942",
     "status": "completed"
    },
    "tags": []
   },
   "source": [
    "We can see that active users do much better than novices. But anyway average user score is lower than the overall % of correct answers. It means heavy users have even better scores. Let's look at them."
   ]
  },
  {
   "cell_type": "code",
   "execution_count": 23,
   "metadata": {
    "execution": {
     "iopub.execute_input": "2020-10-11T07:12:05.520753Z",
     "iopub.status.busy": "2020-10-11T07:12:05.519411Z",
     "iopub.status.idle": "2020-10-11T07:12:05.944733Z",
     "shell.execute_reply": "2020-10-11T07:12:05.943926Z"
    },
    "papermill": {
     "duration": 0.502983,
     "end_time": "2020-10-11T07:12:05.944868",
     "exception": false,
     "start_time": "2020-10-11T07:12:05.441885",
     "status": "completed"
    },
    "tags": []
   },
   "outputs": [
    {
     "data": {
      "text/plain": [
       "<matplotlib.axes._subplots.AxesSubplot at 0x7fdd679f3f50>"
      ]
     },
     "execution_count": 23,
     "metadata": {},
     "output_type": "execute_result"
    },
    {
     "data": {
      "image/png": "[encoded data removed]",
      "text/plain": [
       "<Figure size 432x288 with 1 Axes>"
      ]
     },
     "metadata": {
      "needs_background": "light"
     },
     "output_type": "display_data"
    }
   ],
   "source": [
    "user_answers_df[user_answers_df[('answered_correctly','count')] >= 500][('answered_correctly','mean')].hist(bins = 100)"
   ]
  },
  {
   "cell_type": "code",
   "execution_count": 24,
   "metadata": {
    "execution": {
     "iopub.execute_input": "2020-10-11T07:12:06.168153Z",
     "iopub.status.busy": "2020-10-11T07:12:06.163069Z",
     "iopub.status.idle": "2020-10-11T07:12:06.461038Z",
     "shell.execute_reply": "2020-10-11T07:12:06.460424Z"
    },
    "papermill": {
     "duration": 0.434696,
     "end_time": "2020-10-11T07:12:06.461176",
     "exception": false,
     "start_time": "2020-10-11T07:12:06.026480",
     "status": "completed"
    },
    "tags": []
   },
   "outputs": [
    {
     "data": {
      "text/plain": [
       "<matplotlib.collections.PathCollection at 0x7fdd5dc07e10>"
      ]
     },
     "execution_count": 24,
     "metadata": {},
     "output_type": "execute_result"
    },
    {
     "data": {
      "image/png": "[encoded data removed]",
      "text/plain": [
       "<Figure size 432x288 with 1 Axes>"
      ]
     },
     "metadata": {
      "needs_background": "light"
     },
     "output_type": "display_data"
    }
   ],
   "source": [
    "plt.scatter(x = user_answers_df[('answered_correctly','count')], y=user_answers_df[ ('answered_correctly','mean')])"
   ]
  },
  {
   "cell_type": "markdown",
   "metadata": {
    "papermill": {
     "duration": 0.073916,
     "end_time": "2020-10-11T07:12:06.609059",
     "exception": false,
     "start_time": "2020-10-11T07:12:06.535143",
     "status": "completed"
    },
    "tags": []
   },
   "source": [
    "Timestamp, the average score for the active user, and the number of questions answered can be useful for baseline."
   ]
  },
  {
   "cell_type": "markdown",
   "metadata": {
    "papermill": {
     "duration": 0.074,
     "end_time": "2020-10-11T07:12:06.757170",
     "exception": false,
     "start_time": "2020-10-11T07:12:06.683170",
     "status": "completed"
    },
    "tags": []
   },
   "source": [
    "### Answers by content"
   ]
  },
  {
   "cell_type": "code",
   "execution_count": 25,
   "metadata": {
    "execution": {
     "iopub.execute_input": "2020-10-11T07:12:06.911807Z",
     "iopub.status.busy": "2020-10-11T07:12:06.910746Z",
     "iopub.status.idle": "2020-10-11T07:12:06.914169Z",
     "shell.execute_reply": "2020-10-11T07:12:06.913537Z"
    },
    "papermill": {
     "duration": 0.082883,
     "end_time": "2020-10-11T07:12:06.914290",
     "exception": false,
     "start_time": "2020-10-11T07:12:06.831407",
     "status": "completed"
    },
    "tags": []
   },
   "outputs": [],
   "source": [
    "grouped_by_content_df = train_questions_only_df.groupby('content_id')"
   ]
  },
  {
   "cell_type": "code",
   "execution_count": 26,
   "metadata": {
    "execution": {
     "iopub.execute_input": "2020-10-11T07:12:07.069463Z",
     "iopub.status.busy": "2020-10-11T07:12:07.068720Z",
     "iopub.status.idle": "2020-10-11T07:12:07.518479Z",
     "shell.execute_reply": "2020-10-11T07:12:07.517805Z"
    },
    "papermill": {
     "duration": 0.529234,
     "end_time": "2020-10-11T07:12:07.518608",
     "exception": false,
     "start_time": "2020-10-11T07:12:06.989374",
     "status": "completed"
    },
    "tags": []
   },
   "outputs": [],
   "source": [
    "content_answers_df = grouped_by_content_df.agg({'answered_correctly': ['mean', 'count'] })"
   ]
  },
  {
   "cell_type": "code",
   "execution_count": 27,
   "metadata": {
    "execution": {
     "iopub.execute_input": "2020-10-11T07:12:07.682002Z",
     "iopub.status.busy": "2020-10-11T07:12:07.680592Z",
     "iopub.status.idle": "2020-10-11T07:12:08.178849Z",
     "shell.execute_reply": "2020-10-11T07:12:08.178231Z"
    },
    "papermill": {
     "duration": 0.585414,
     "end_time": "2020-10-11T07:12:08.178994",
     "exception": false,
     "start_time": "2020-10-11T07:12:07.593580",
     "status": "completed"
    },
    "tags": []
   },
   "outputs": [
    {
     "data": {
      "text/plain": [
       "<matplotlib.axes._subplots.AxesSubplot at 0x7fdd5dde1110>"
      ]
     },
     "execution_count": 27,
     "metadata": {},
     "output_type": "execute_result"
    },
    {
     "data": {
      "image/png": "[encoded data removed]",
      "text/plain": [
       "<Figure size 432x288 with 1 Axes>"
      ]
     },
     "metadata": {
      "needs_background": "light"
     },
     "output_type": "display_data"
    }
   ],
   "source": [
    "content_answers_df[('answered_correctly','count')].hist(bins = 100)"
   ]
  },
  {
   "cell_type": "code",
   "execution_count": 28,
   "metadata": {
    "execution": {
     "iopub.execute_input": "2020-10-11T07:12:08.344074Z",
     "iopub.status.busy": "2020-10-11T07:12:08.343044Z",
     "iopub.status.idle": "2020-10-11T07:12:08.744311Z",
     "shell.execute_reply": "2020-10-11T07:12:08.743639Z"
    },
    "papermill": {
     "duration": 0.489812,
     "end_time": "2020-10-11T07:12:08.744451",
     "exception": false,
     "start_time": "2020-10-11T07:12:08.254639",
     "status": "completed"
    },
    "tags": []
   },
   "outputs": [
    {
     "data": {
      "text/plain": [
       "<matplotlib.axes._subplots.AxesSubplot at 0x7fdd60a29250>"
      ]
     },
     "execution_count": 28,
     "metadata": {},
     "output_type": "execute_result"
    },
    {
     "data": {
      "image/png": "[encoded data removed]",
      "text/plain": [
       "<Figure size 432x288 with 1 Axes>"
      ]
     },
     "metadata": {
      "needs_background": "light"
     },
     "output_type": "display_data"
    }
   ],
   "source": [
    "content_answers_df[('answered_correctly','mean')].hist(bins = 100)"
   ]
  },
  {
   "cell_type": "markdown",
   "metadata": {
    "papermill": {
     "duration": 0.07652,
     "end_time": "2020-10-11T07:12:08.897901",
     "exception": false,
     "start_time": "2020-10-11T07:12:08.821381",
     "status": "completed"
    },
    "tags": []
   },
   "source": [
    "Different questions have different popularity and complexity, and it can also be used in the baseline."
   ]
  },
  {
   "cell_type": "code",
   "execution_count": 29,
   "metadata": {
    "execution": {
     "iopub.execute_input": "2020-10-11T07:12:09.060846Z",
     "iopub.status.busy": "2020-10-11T07:12:09.058649Z",
     "iopub.status.idle": "2020-10-11T07:12:09.461540Z",
     "shell.execute_reply": "2020-10-11T07:12:09.460824Z"
    },
    "papermill": {
     "duration": 0.486893,
     "end_time": "2020-10-11T07:12:09.461658",
     "exception": false,
     "start_time": "2020-10-11T07:12:08.974765",
     "status": "completed"
    },
    "tags": []
   },
   "outputs": [
    {
     "data": {
      "text/plain": [
       "<matplotlib.axes._subplots.AxesSubplot at 0x7fdd60c6f150>"
      ]
     },
     "execution_count": 29,
     "metadata": {},
     "output_type": "execute_result"
    },
    {
     "data": {
      "image/png": "[encoded data removed]",
      "text/plain": [
       "<Figure size 432x288 with 1 Axes>"
      ]
     },
     "metadata": {
      "needs_background": "light"
     },
     "output_type": "display_data"
    }
   ],
   "source": [
    "content_answers_df[content_answers_df[('answered_correctly','count')]>50][('answered_correctly','mean')].hist(bins = 100)"
   ]
  },
  {
   "cell_type": "markdown",
   "metadata": {
    "papermill": {
     "duration": 0.077525,
     "end_time": "2020-10-11T07:12:09.617254",
     "exception": false,
     "start_time": "2020-10-11T07:12:09.539729",
     "status": "completed"
    },
    "tags": []
   },
   "source": [
    "# Questions.csv"
   ]
  },
  {
   "cell_type": "markdown",
   "metadata": {
    "papermill": {
     "duration": 0.078037,
     "end_time": "2020-10-11T07:12:09.773569",
     "exception": false,
     "start_time": "2020-10-11T07:12:09.695532",
     "status": "completed"
    },
    "tags": []
   },
   "source": [
    "Let's look into the `questions.csv` file"
   ]
  },
  {
   "cell_type": "code",
   "execution_count": 8,
   "metadata": {
    "execution": {
     "iopub.execute_input": "2020-10-11T07:12:09.937726Z",
     "iopub.status.busy": "2020-10-11T07:12:09.936936Z",
     "iopub.status.idle": "2020-10-11T07:12:09.950320Z",
     "shell.execute_reply": "2020-10-11T07:12:09.949571Z"
    },
    "papermill": {
     "duration": 0.098423,
     "end_time": "2020-10-11T07:12:09.950458",
     "exception": false,
     "start_time": "2020-10-11T07:12:09.852035",
     "status": "completed"
    },
    "tags": []
   },
   "outputs": [],
   "source": [
    "questions_df = pd.read_csv('~/kaggle/input/riiid-test-answer-prediction/questions.csv')"
   ]
  },
  {
   "cell_type": "code",
   "execution_count": 32,
   "metadata": {
    "execution": {
     "iopub.execute_input": "2020-10-11T07:12:10.126088Z",
     "iopub.status.busy": "2020-10-11T07:12:10.124949Z",
     "iopub.status.idle": "2020-10-11T07:12:10.130470Z",
     "shell.execute_reply": "2020-10-11T07:12:10.129740Z"
    },
    "papermill": {
     "duration": 0.100184,
     "end_time": "2020-10-11T07:12:10.130594",
     "exception": false,
     "start_time": "2020-10-11T07:12:10.030410",
     "status": "completed"
    },
    "tags": []
   },
   "outputs": [
    {
     "data": {
      "text/html": [
       "<div>\n",
       "<style scoped>\n",
       "    .dataframe tbody tr th:only-of-type {\n",
       "        vertical-align: middle;\n",
       "    }\n",
       "\n",
       "    .dataframe tbody tr th {\n",
       "        vertical-align: top;\n",
       "    }\n",
       "\n",
       "    .dataframe thead th {\n",
       "        text-align: right;\n",
       "    }\n",
       "</style>\n",
       "<table border=\"1\" class=\"dataframe\">\n",
       "  <thead>\n",
       "    <tr style=\"text-align: right;\">\n",
       "      <th></th>\n",
       "      <th>question_id</th>\n",
       "      <th>bundle_id</th>\n",
       "      <th>correct_answer</th>\n",
       "      <th>part</th>\n",
       "      <th>tags</th>\n",
       "    </tr>\n",
       "  </thead>\n",
       "  <tbody>\n",
       "    <tr>\n",
       "      <th>0</th>\n",
       "      <td>0</td>\n",
       "      <td>0</td>\n",
       "      <td>0</td>\n",
       "      <td>1</td>\n",
       "      <td>51 131 162 38</td>\n",
       "    </tr>\n",
       "    <tr>\n",
       "      <th>1</th>\n",
       "      <td>1</td>\n",
       "      <td>1</td>\n",
       "      <td>1</td>\n",
       "      <td>1</td>\n",
       "      <td>131 36 81</td>\n",
       "    </tr>\n",
       "    <tr>\n",
       "      <th>2</th>\n",
       "      <td>2</td>\n",
       "      <td>2</td>\n",
       "      <td>0</td>\n",
       "      <td>1</td>\n",
       "      <td>131 101 162 92</td>\n",
       "    </tr>\n",
       "    <tr>\n",
       "      <th>3</th>\n",
       "      <td>3</td>\n",
       "      <td>3</td>\n",
       "      <td>0</td>\n",
       "      <td>1</td>\n",
       "      <td>131 149 162 29</td>\n",
       "    </tr>\n",
       "    <tr>\n",
       "      <th>4</th>\n",
       "      <td>4</td>\n",
       "      <td>4</td>\n",
       "      <td>3</td>\n",
       "      <td>1</td>\n",
       "      <td>131 5 162 38</td>\n",
       "    </tr>\n",
       "    <tr>\n",
       "      <th>...</th>\n",
       "      <td>...</td>\n",
       "      <td>...</td>\n",
       "      <td>...</td>\n",
       "      <td>...</td>\n",
       "      <td>...</td>\n",
       "    </tr>\n",
       "    <tr>\n",
       "      <th>13518</th>\n",
       "      <td>13518</td>\n",
       "      <td>13518</td>\n",
       "      <td>3</td>\n",
       "      <td>5</td>\n",
       "      <td>14</td>\n",
       "    </tr>\n",
       "    <tr>\n",
       "      <th>13519</th>\n",
       "      <td>13519</td>\n",
       "      <td>13519</td>\n",
       "      <td>3</td>\n",
       "      <td>5</td>\n",
       "      <td>8</td>\n",
       "    </tr>\n",
       "    <tr>\n",
       "      <th>13520</th>\n",
       "      <td>13520</td>\n",
       "      <td>13520</td>\n",
       "      <td>2</td>\n",
       "      <td>5</td>\n",
       "      <td>73</td>\n",
       "    </tr>\n",
       "    <tr>\n",
       "      <th>13521</th>\n",
       "      <td>13521</td>\n",
       "      <td>13521</td>\n",
       "      <td>0</td>\n",
       "      <td>5</td>\n",
       "      <td>125</td>\n",
       "    </tr>\n",
       "    <tr>\n",
       "      <th>13522</th>\n",
       "      <td>13522</td>\n",
       "      <td>13522</td>\n",
       "      <td>3</td>\n",
       "      <td>5</td>\n",
       "      <td>55</td>\n",
       "    </tr>\n",
       "  </tbody>\n",
       "</table>\n",
       "<p>13523 rows × 5 columns</p>\n",
       "</div>"
      ],
      "text/plain": [
       "       question_id  bundle_id  correct_answer  part            tags\n",
       "0                0          0               0     1   51 131 162 38\n",
       "1                1          1               1     1       131 36 81\n",
       "2                2          2               0     1  131 101 162 92\n",
       "3                3          3               0     1  131 149 162 29\n",
       "4                4          4               3     1    131 5 162 38\n",
       "...            ...        ...             ...   ...             ...\n",
       "13518        13518      13518               3     5              14\n",
       "13519        13519      13519               3     5               8\n",
       "13520        13520      13520               2     5              73\n",
       "13521        13521      13521               0     5             125\n",
       "13522        13522      13522               3     5              55\n",
       "\n",
       "[13523 rows x 5 columns]"
      ]
     },
     "execution_count": 32,
     "metadata": {},
     "output_type": "execute_result"
    }
   ],
   "source": [
    "questions_df"
   ]
  },
  {
   "cell_type": "code",
   "execution_count": 33,
   "metadata": {
    "execution": {
     "iopub.execute_input": "2020-10-11T07:12:10.297054Z",
     "iopub.status.busy": "2020-10-11T07:12:10.296114Z",
     "iopub.status.idle": "2020-10-11T07:12:10.300423Z",
     "shell.execute_reply": "2020-10-11T07:12:10.299580Z"
    },
    "papermill": {
     "duration": 0.090007,
     "end_time": "2020-10-11T07:12:10.300608",
     "exception": false,
     "start_time": "2020-10-11T07:12:10.210601",
     "status": "completed"
    },
    "tags": []
   },
   "outputs": [
    {
     "name": "stdout",
     "output_type": "stream",
     "text": [
      "There are 7 different parts\n"
     ]
    }
   ],
   "source": [
    "print(f\"There are {len(questions_df['part'].unique())} different parts\")"
   ]
  },
  {
   "cell_type": "code",
   "execution_count": 34,
   "metadata": {
    "execution": {
     "iopub.execute_input": "2020-10-11T07:12:10.469591Z",
     "iopub.status.busy": "2020-10-11T07:12:10.468759Z",
     "iopub.status.idle": "2020-10-11T07:12:10.473770Z",
     "shell.execute_reply": "2020-10-11T07:12:10.473177Z"
    },
    "papermill": {
     "duration": 0.091371,
     "end_time": "2020-10-11T07:12:10.473901",
     "exception": false,
     "start_time": "2020-10-11T07:12:10.382530",
     "status": "completed"
    },
    "tags": []
   },
   "outputs": [
    {
     "data": {
      "text/plain": [
       "'55'"
      ]
     },
     "execution_count": 34,
     "metadata": {},
     "output_type": "execute_result"
    }
   ],
   "source": [
    "questions_df['tags'].values[-1]"
   ]
  },
  {
   "cell_type": "code",
   "execution_count": 35,
   "metadata": {
    "execution": {
     "iopub.execute_input": "2020-10-11T07:12:10.659754Z",
     "iopub.status.busy": "2020-10-11T07:12:10.658823Z",
     "iopub.status.idle": "2020-10-11T07:12:10.662248Z",
     "shell.execute_reply": "2020-10-11T07:12:10.662886Z"
    },
    "papermill": {
     "duration": 0.107409,
     "end_time": "2020-10-11T07:12:10.663040",
     "exception": false,
     "start_time": "2020-10-11T07:12:10.555631",
     "status": "completed"
    },
    "tags": []
   },
   "outputs": [
    {
     "name": "stdout",
     "output_type": "stream",
     "text": [
      "There are 189 different tags\n"
     ]
    }
   ],
   "source": [
    "unique_tags = set().union(*[y.split() for y in questions_df['tags'].astype(str).values])\n",
    "print(f\"There are {len(unique_tags)} different tags\")"
   ]
  },
  {
   "cell_type": "code",
   "execution_count": 36,
   "metadata": {
    "execution": {
     "iopub.execute_input": "2020-10-11T07:12:10.832775Z",
     "iopub.status.busy": "2020-10-11T07:12:10.831091Z",
     "iopub.status.idle": "2020-10-11T07:12:10.837461Z",
     "shell.execute_reply": "2020-10-11T07:12:10.836871Z"
    },
    "papermill": {
     "duration": 0.093192,
     "end_time": "2020-10-11T07:12:10.837578",
     "exception": false,
     "start_time": "2020-10-11T07:12:10.744386",
     "status": "completed"
    },
    "tags": []
   },
   "outputs": [
    {
     "data": {
      "text/plain": [
       "0.277896916364712"
      ]
     },
     "execution_count": 36,
     "metadata": {},
     "output_type": "execute_result"
    }
   ],
   "source": [
    "(questions_df['question_id'] != questions_df['bundle_id']).mean()"
   ]
  },
  {
   "cell_type": "markdown",
   "metadata": {
    "papermill": {
     "duration": 0.081815,
     "end_time": "2020-10-11T07:12:11.002114",
     "exception": false,
     "start_time": "2020-10-11T07:12:10.920299",
     "status": "completed"
    },
    "tags": []
   },
   "source": [
    "We can create aggregated features using the data from this file as well."
   ]
  },
  {
   "cell_type": "markdown",
   "metadata": {
    "papermill": {
     "duration": 0.081487,
     "end_time": "2020-10-11T07:12:11.165152",
     "exception": false,
     "start_time": "2020-10-11T07:12:11.083665",
     "status": "completed"
    },
    "tags": []
   },
   "source": [
    "# Baseline"
   ]
  },
  {
   "cell_type": "markdown",
   "metadata": {
    "papermill": {
     "duration": 0.081474,
     "end_time": "2020-10-11T07:12:11.328030",
     "exception": false,
     "start_time": "2020-10-11T07:12:11.246556",
     "status": "completed"
    },
    "tags": []
   },
   "source": [
    "Let's try to use discovered features and use them in model to predict the right answer probability."
   ]
  },
  {
   "cell_type": "code",
   "execution_count": 3,
   "metadata": {
    "execution": {
     "iopub.execute_input": "2020-10-11T07:12:11.499088Z",
     "iopub.status.busy": "2020-10-11T07:12:11.498082Z",
     "iopub.status.idle": "2020-10-11T07:17:04.471542Z",
     "shell.execute_reply": "2020-10-11T07:17:04.470712Z"
    },
    "papermill": {
     "duration": 293.061579,
     "end_time": "2020-10-11T07:17:04.471696",
     "exception": false,
     "start_time": "2020-10-11T07:12:11.410117",
     "status": "completed"
    },
    "tags": []
   },
   "outputs": [
    {
     "name": "stderr",
     "output_type": "stream",
     "text": [
      "/Users/danh/anaconda3/lib/python3.7/site-packages/numpy/lib/arraysetops.py:569: FutureWarning: elementwise comparison failed; returning scalar instead, but in the future will perform elementwise comparison\n",
      "  mask |= (ar1 == a)\n"
     ]
    }
   ],
   "source": [
    "train_df = pd.read_csv('~/kaggle/input/riiid-test-answer-prediction/train.csv',\n",
    "                       usecols = data_types_dict.keys(),\n",
    "                       dtype=data_types_dict, \n",
    "                       index_col = 0)"
   ]
  },
  {
   "cell_type": "code",
   "execution_count": 4,
   "metadata": {
    "execution": {
     "iopub.execute_input": "2020-10-11T07:17:04.642973Z",
     "iopub.status.busy": "2020-10-11T07:17:04.642208Z",
     "iopub.status.idle": "2020-10-11T07:17:04.644696Z",
     "shell.execute_reply": "2020-10-11T07:17:04.645265Z"
    },
    "papermill": {
     "duration": 0.091116,
     "end_time": "2020-10-11T07:17:04.645414",
     "exception": false,
     "start_time": "2020-10-11T07:17:04.554298",
     "status": "completed"
    },
    "tags": []
   },
   "outputs": [],
   "source": [
    "features_part_df = train_df.iloc[:int(9 /10 * len(train_df))]\n",
    "train_part_df = train_df.iloc[int(9 /10 * len(train_df)):]"
   ]
  },
  {
   "cell_type": "code",
   "execution_count": 5,
   "metadata": {
    "execution": {
     "iopub.execute_input": "2020-10-11T07:17:04.817178Z",
     "iopub.status.busy": "2020-10-11T07:17:04.816368Z",
     "iopub.status.idle": "2020-10-11T07:17:21.693747Z",
     "shell.execute_reply": "2020-10-11T07:17:21.693046Z"
    },
    "papermill": {
     "duration": 16.966222,
     "end_time": "2020-10-11T07:17:21.693884",
     "exception": false,
     "start_time": "2020-10-11T07:17:04.727662",
     "status": "completed"
    },
    "tags": []
   },
   "outputs": [],
   "source": [
    "train_questions_only_df = features_part_df[features_part_df['answered_correctly']!=-1]\n",
    "grouped_by_user_df = train_questions_only_df.groupby('user_id')\n",
    "user_answers_df = grouped_by_user_df.agg({'answered_correctly': ['mean', 'count']}).copy()\n",
    "user_answers_df.columns = ['mean_user_accuracy', 'questions_answered']"
   ]
  },
  {
   "cell_type": "code",
   "execution_count": 6,
   "metadata": {
    "execution": {
     "iopub.execute_input": "2020-10-11T07:17:21.878240Z",
     "iopub.status.busy": "2020-10-11T07:17:21.877110Z",
     "iopub.status.idle": "2020-10-11T07:17:25.695550Z",
     "shell.execute_reply": "2020-10-11T07:17:25.694783Z"
    },
    "papermill": {
     "duration": 3.919534,
     "end_time": "2020-10-11T07:17:25.695700",
     "exception": false,
     "start_time": "2020-10-11T07:17:21.776166",
     "status": "completed"
    },
    "tags": []
   },
   "outputs": [],
   "source": [
    "grouped_by_content_df = train_questions_only_df.groupby('content_id')\n",
    "content_answers_df = grouped_by_content_df.agg({'answered_correctly': ['mean', 'count'] }).copy()\n",
    "content_answers_df.columns = ['mean_accuracy', 'question_asked']"
   ]
  },
  {
   "cell_type": "markdown",
   "metadata": {
    "papermill": {
     "duration": 0.082046,
     "end_time": "2020-10-11T07:17:25.861017",
     "exception": false,
     "start_time": "2020-10-11T07:17:25.778971",
     "status": "completed"
    },
    "tags": []
   },
   "source": [
    "Let's create additional features using `questions_df`"
   ]
  },
  {
   "cell_type": "code",
   "execution_count": 9,
   "metadata": {
    "execution": {
     "iopub.execute_input": "2020-10-11T07:17:26.032787Z",
     "iopub.status.busy": "2020-10-11T07:17:26.032013Z",
     "iopub.status.idle": "2020-10-11T07:17:26.052595Z",
     "shell.execute_reply": "2020-10-11T07:17:26.051800Z"
    },
    "papermill": {
     "duration": 0.109327,
     "end_time": "2020-10-11T07:17:26.052766",
     "exception": false,
     "start_time": "2020-10-11T07:17:25.943439",
     "status": "completed"
    },
    "tags": []
   },
   "outputs": [],
   "source": [
    "questions_df = questions_df.merge(content_answers_df, left_on = 'question_id', right_on = 'content_id', how = 'left')"
   ]
  },
  {
   "cell_type": "code",
   "execution_count": 10,
   "metadata": {
    "execution": {
     "iopub.execute_input": "2020-10-11T07:17:26.226405Z",
     "iopub.status.busy": "2020-10-11T07:17:26.225608Z",
     "iopub.status.idle": "2020-10-11T07:17:26.234282Z",
     "shell.execute_reply": "2020-10-11T07:17:26.233539Z"
    },
    "papermill": {
     "duration": 0.09777,
     "end_time": "2020-10-11T07:17:26.234412",
     "exception": false,
     "start_time": "2020-10-11T07:17:26.136642",
     "status": "completed"
    },
    "tags": []
   },
   "outputs": [],
   "source": [
    "bundle_dict = questions_df['bundle_id'].value_counts().to_dict()"
   ]
  },
  {
   "cell_type": "code",
   "execution_count": 11,
   "metadata": {
    "execution": {
     "iopub.execute_input": "2020-10-11T07:17:26.423198Z",
     "iopub.status.busy": "2020-10-11T07:17:26.422246Z",
     "iopub.status.idle": "2020-10-11T07:17:26.425365Z",
     "shell.execute_reply": "2020-10-11T07:17:26.424792Z"
    },
    "papermill": {
     "duration": 0.106894,
     "end_time": "2020-10-11T07:17:26.425501",
     "exception": false,
     "start_time": "2020-10-11T07:17:26.318607",
     "status": "completed"
    },
    "tags": []
   },
   "outputs": [],
   "source": [
    "questions_df['right_answers'] = questions_df['mean_accuracy'] * questions_df['question_asked']\n",
    "questions_df['bundle_size'] =questions_df['bundle_id'].apply(lambda x: bundle_dict[x])"
   ]
  },
  {
   "cell_type": "code",
   "execution_count": 12,
   "metadata": {
    "execution": {
     "iopub.execute_input": "2020-10-11T07:17:26.598237Z",
     "iopub.status.busy": "2020-10-11T07:17:26.597484Z",
     "iopub.status.idle": "2020-10-11T07:17:26.621733Z",
     "shell.execute_reply": "2020-10-11T07:17:26.621130Z"
    },
    "papermill": {
     "duration": 0.113134,
     "end_time": "2020-10-11T07:17:26.621858",
     "exception": false,
     "start_time": "2020-10-11T07:17:26.508724",
     "status": "completed"
    },
    "tags": []
   },
   "outputs": [
    {
     "data": {
      "text/html": [
       "<div>\n",
       "<style scoped>\n",
       "    .dataframe tbody tr th:only-of-type {\n",
       "        vertical-align: middle;\n",
       "    }\n",
       "\n",
       "    .dataframe tbody tr th {\n",
       "        vertical-align: top;\n",
       "    }\n",
       "\n",
       "    .dataframe thead th {\n",
       "        text-align: right;\n",
       "    }\n",
       "</style>\n",
       "<table border=\"1\" class=\"dataframe\">\n",
       "  <thead>\n",
       "    <tr style=\"text-align: right;\">\n",
       "      <th></th>\n",
       "      <th>question_id</th>\n",
       "      <th>bundle_id</th>\n",
       "      <th>correct_answer</th>\n",
       "      <th>part</th>\n",
       "      <th>tags</th>\n",
       "      <th>mean_accuracy</th>\n",
       "      <th>question_asked</th>\n",
       "      <th>right_answers</th>\n",
       "      <th>bundle_size</th>\n",
       "    </tr>\n",
       "  </thead>\n",
       "  <tbody>\n",
       "    <tr>\n",
       "      <th>0</th>\n",
       "      <td>0</td>\n",
       "      <td>0</td>\n",
       "      <td>0</td>\n",
       "      <td>1</td>\n",
       "      <td>51 131 162 38</td>\n",
       "      <td>0.908595</td>\n",
       "      <td>6236.0</td>\n",
       "      <td>5666.0</td>\n",
       "      <td>1</td>\n",
       "    </tr>\n",
       "    <tr>\n",
       "      <th>1</th>\n",
       "      <td>1</td>\n",
       "      <td>1</td>\n",
       "      <td>1</td>\n",
       "      <td>1</td>\n",
       "      <td>131 36 81</td>\n",
       "      <td>0.891682</td>\n",
       "      <td>6684.0</td>\n",
       "      <td>5960.0</td>\n",
       "      <td>1</td>\n",
       "    </tr>\n",
       "    <tr>\n",
       "      <th>2</th>\n",
       "      <td>2</td>\n",
       "      <td>2</td>\n",
       "      <td>0</td>\n",
       "      <td>1</td>\n",
       "      <td>131 101 162 92</td>\n",
       "      <td>0.554656</td>\n",
       "      <td>40499.0</td>\n",
       "      <td>22463.0</td>\n",
       "      <td>1</td>\n",
       "    </tr>\n",
       "    <tr>\n",
       "      <th>3</th>\n",
       "      <td>3</td>\n",
       "      <td>3</td>\n",
       "      <td>0</td>\n",
       "      <td>1</td>\n",
       "      <td>131 149 162 29</td>\n",
       "      <td>0.779348</td>\n",
       "      <td>20734.0</td>\n",
       "      <td>16159.0</td>\n",
       "      <td>1</td>\n",
       "    </tr>\n",
       "    <tr>\n",
       "      <th>4</th>\n",
       "      <td>4</td>\n",
       "      <td>4</td>\n",
       "      <td>3</td>\n",
       "      <td>1</td>\n",
       "      <td>131 5 162 38</td>\n",
       "      <td>0.613226</td>\n",
       "      <td>28549.0</td>\n",
       "      <td>17507.0</td>\n",
       "      <td>1</td>\n",
       "    </tr>\n",
       "    <tr>\n",
       "      <th>...</th>\n",
       "      <td>...</td>\n",
       "      <td>...</td>\n",
       "      <td>...</td>\n",
       "      <td>...</td>\n",
       "      <td>...</td>\n",
       "      <td>...</td>\n",
       "      <td>...</td>\n",
       "      <td>...</td>\n",
       "      <td>...</td>\n",
       "    </tr>\n",
       "    <tr>\n",
       "      <th>13518</th>\n",
       "      <td>13518</td>\n",
       "      <td>13518</td>\n",
       "      <td>3</td>\n",
       "      <td>5</td>\n",
       "      <td>14</td>\n",
       "      <td>0.789203</td>\n",
       "      <td>778.0</td>\n",
       "      <td>614.0</td>\n",
       "      <td>1</td>\n",
       "    </tr>\n",
       "    <tr>\n",
       "      <th>13519</th>\n",
       "      <td>13519</td>\n",
       "      <td>13519</td>\n",
       "      <td>3</td>\n",
       "      <td>5</td>\n",
       "      <td>8</td>\n",
       "      <td>0.567797</td>\n",
       "      <td>826.0</td>\n",
       "      <td>469.0</td>\n",
       "      <td>1</td>\n",
       "    </tr>\n",
       "    <tr>\n",
       "      <th>13520</th>\n",
       "      <td>13520</td>\n",
       "      <td>13520</td>\n",
       "      <td>2</td>\n",
       "      <td>5</td>\n",
       "      <td>73</td>\n",
       "      <td>0.678524</td>\n",
       "      <td>759.0</td>\n",
       "      <td>515.0</td>\n",
       "      <td>1</td>\n",
       "    </tr>\n",
       "    <tr>\n",
       "      <th>13521</th>\n",
       "      <td>13521</td>\n",
       "      <td>13521</td>\n",
       "      <td>0</td>\n",
       "      <td>5</td>\n",
       "      <td>125</td>\n",
       "      <td>0.822560</td>\n",
       "      <td>789.0</td>\n",
       "      <td>649.0</td>\n",
       "      <td>1</td>\n",
       "    </tr>\n",
       "    <tr>\n",
       "      <th>13522</th>\n",
       "      <td>13522</td>\n",
       "      <td>13522</td>\n",
       "      <td>3</td>\n",
       "      <td>5</td>\n",
       "      <td>55</td>\n",
       "      <td>0.914174</td>\n",
       "      <td>769.0</td>\n",
       "      <td>703.0</td>\n",
       "      <td>1</td>\n",
       "    </tr>\n",
       "  </tbody>\n",
       "</table>\n",
       "<p>13523 rows × 9 columns</p>\n",
       "</div>"
      ],
      "text/plain": [
       "       question_id  bundle_id  correct_answer  part            tags  \\\n",
       "0                0          0               0     1   51 131 162 38   \n",
       "1                1          1               1     1       131 36 81   \n",
       "2                2          2               0     1  131 101 162 92   \n",
       "3                3          3               0     1  131 149 162 29   \n",
       "4                4          4               3     1    131 5 162 38   \n",
       "...            ...        ...             ...   ...             ...   \n",
       "13518        13518      13518               3     5              14   \n",
       "13519        13519      13519               3     5               8   \n",
       "13520        13520      13520               2     5              73   \n",
       "13521        13521      13521               0     5             125   \n",
       "13522        13522      13522               3     5              55   \n",
       "\n",
       "       mean_accuracy  question_asked  right_answers  bundle_size  \n",
       "0           0.908595          6236.0         5666.0            1  \n",
       "1           0.891682          6684.0         5960.0            1  \n",
       "2           0.554656         40499.0        22463.0            1  \n",
       "3           0.779348         20734.0        16159.0            1  \n",
       "4           0.613226         28549.0        17507.0            1  \n",
       "...              ...             ...            ...          ...  \n",
       "13518       0.789203           778.0          614.0            1  \n",
       "13519       0.567797           826.0          469.0            1  \n",
       "13520       0.678524           759.0          515.0            1  \n",
       "13521       0.822560           789.0          649.0            1  \n",
       "13522       0.914174           769.0          703.0            1  \n",
       "\n",
       "[13523 rows x 9 columns]"
      ]
     },
     "execution_count": 12,
     "metadata": {},
     "output_type": "execute_result"
    }
   ],
   "source": [
    "questions_df"
   ]
  },
  {
   "cell_type": "code",
   "execution_count": 13,
   "metadata": {
    "execution": {
     "iopub.execute_input": "2020-10-11T07:17:26.799043Z",
     "iopub.status.busy": "2020-10-11T07:17:26.798189Z",
     "iopub.status.idle": "2020-10-11T07:17:26.818582Z",
     "shell.execute_reply": "2020-10-11T07:17:26.819191Z"
    },
    "papermill": {
     "duration": 0.113635,
     "end_time": "2020-10-11T07:17:26.819347",
     "exception": false,
     "start_time": "2020-10-11T07:17:26.705712",
     "status": "completed"
    },
    "tags": []
   },
   "outputs": [
    {
     "data": {
      "text/html": [
       "<div>\n",
       "<style scoped>\n",
       "    .dataframe tbody tr th:only-of-type {\n",
       "        vertical-align: middle;\n",
       "    }\n",
       "\n",
       "    .dataframe tbody tr th {\n",
       "        vertical-align: top;\n",
       "    }\n",
       "\n",
       "    .dataframe thead th {\n",
       "        text-align: right;\n",
       "    }\n",
       "</style>\n",
       "<table border=\"1\" class=\"dataframe\">\n",
       "  <thead>\n",
       "    <tr style=\"text-align: right;\">\n",
       "      <th></th>\n",
       "      <th>bundle_rignt_answers</th>\n",
       "      <th>bundle_questions_asked</th>\n",
       "      <th>bundle_accuracy</th>\n",
       "    </tr>\n",
       "    <tr>\n",
       "      <th>bundle_id</th>\n",
       "      <th></th>\n",
       "      <th></th>\n",
       "      <th></th>\n",
       "    </tr>\n",
       "  </thead>\n",
       "  <tbody>\n",
       "    <tr>\n",
       "      <th>0</th>\n",
       "      <td>5666.0</td>\n",
       "      <td>6236.0</td>\n",
       "      <td>0.908595</td>\n",
       "    </tr>\n",
       "    <tr>\n",
       "      <th>1</th>\n",
       "      <td>5960.0</td>\n",
       "      <td>6684.0</td>\n",
       "      <td>0.891682</td>\n",
       "    </tr>\n",
       "    <tr>\n",
       "      <th>2</th>\n",
       "      <td>22463.0</td>\n",
       "      <td>40499.0</td>\n",
       "      <td>0.554656</td>\n",
       "    </tr>\n",
       "    <tr>\n",
       "      <th>3</th>\n",
       "      <td>16159.0</td>\n",
       "      <td>20734.0</td>\n",
       "      <td>0.779348</td>\n",
       "    </tr>\n",
       "    <tr>\n",
       "      <th>4</th>\n",
       "      <td>17507.0</td>\n",
       "      <td>28549.0</td>\n",
       "      <td>0.613226</td>\n",
       "    </tr>\n",
       "    <tr>\n",
       "      <th>...</th>\n",
       "      <td>...</td>\n",
       "      <td>...</td>\n",
       "      <td>...</td>\n",
       "    </tr>\n",
       "    <tr>\n",
       "      <th>13518</th>\n",
       "      <td>614.0</td>\n",
       "      <td>778.0</td>\n",
       "      <td>0.789203</td>\n",
       "    </tr>\n",
       "    <tr>\n",
       "      <th>13519</th>\n",
       "      <td>469.0</td>\n",
       "      <td>826.0</td>\n",
       "      <td>0.567797</td>\n",
       "    </tr>\n",
       "    <tr>\n",
       "      <th>13520</th>\n",
       "      <td>515.0</td>\n",
       "      <td>759.0</td>\n",
       "      <td>0.678524</td>\n",
       "    </tr>\n",
       "    <tr>\n",
       "      <th>13521</th>\n",
       "      <td>649.0</td>\n",
       "      <td>789.0</td>\n",
       "      <td>0.822560</td>\n",
       "    </tr>\n",
       "    <tr>\n",
       "      <th>13522</th>\n",
       "      <td>703.0</td>\n",
       "      <td>769.0</td>\n",
       "      <td>0.914174</td>\n",
       "    </tr>\n",
       "  </tbody>\n",
       "</table>\n",
       "<p>9765 rows × 3 columns</p>\n",
       "</div>"
      ],
      "text/plain": [
       "           bundle_rignt_answers  bundle_questions_asked  bundle_accuracy\n",
       "bundle_id                                                               \n",
       "0                        5666.0                  6236.0         0.908595\n",
       "1                        5960.0                  6684.0         0.891682\n",
       "2                       22463.0                 40499.0         0.554656\n",
       "3                       16159.0                 20734.0         0.779348\n",
       "4                       17507.0                 28549.0         0.613226\n",
       "...                         ...                     ...              ...\n",
       "13518                     614.0                   778.0         0.789203\n",
       "13519                     469.0                   826.0         0.567797\n",
       "13520                     515.0                   759.0         0.678524\n",
       "13521                     649.0                   789.0         0.822560\n",
       "13522                     703.0                   769.0         0.914174\n",
       "\n",
       "[9765 rows x 3 columns]"
      ]
     },
     "execution_count": 13,
     "metadata": {},
     "output_type": "execute_result"
    }
   ],
   "source": [
    "grouped_by_bundle_df = questions_df.groupby('bundle_id')\n",
    "bundle_answers_df = grouped_by_bundle_df.agg({'right_answers': 'sum', 'question_asked': 'sum'}).copy()\n",
    "bundle_answers_df.columns = ['bundle_rignt_answers', 'bundle_questions_asked']\n",
    "bundle_answers_df['bundle_accuracy'] = bundle_answers_df['bundle_rignt_answers'] / bundle_answers_df['bundle_questions_asked']\n",
    "bundle_answers_df"
   ]
  },
  {
   "cell_type": "code",
   "execution_count": 14,
   "metadata": {
    "execution": {
     "iopub.execute_input": "2020-10-11T07:17:27.055724Z",
     "iopub.status.busy": "2020-10-11T07:17:27.054569Z",
     "iopub.status.idle": "2020-10-11T07:17:27.070515Z",
     "shell.execute_reply": "2020-10-11T07:17:27.071345Z"
    },
    "papermill": {
     "duration": 0.163739,
     "end_time": "2020-10-11T07:17:27.071565",
     "exception": false,
     "start_time": "2020-10-11T07:17:26.907826",
     "status": "completed"
    },
    "tags": []
   },
   "outputs": [
    {
     "data": {
      "text/html": [
       "<div>\n",
       "<style scoped>\n",
       "    .dataframe tbody tr th:only-of-type {\n",
       "        vertical-align: middle;\n",
       "    }\n",
       "\n",
       "    .dataframe tbody tr th {\n",
       "        vertical-align: top;\n",
       "    }\n",
       "\n",
       "    .dataframe thead th {\n",
       "        text-align: right;\n",
       "    }\n",
       "</style>\n",
       "<table border=\"1\" class=\"dataframe\">\n",
       "  <thead>\n",
       "    <tr style=\"text-align: right;\">\n",
       "      <th></th>\n",
       "      <th>part_rignt_answers</th>\n",
       "      <th>part_questions_asked</th>\n",
       "      <th>part_accuracy</th>\n",
       "    </tr>\n",
       "    <tr>\n",
       "      <th>part</th>\n",
       "      <th></th>\n",
       "      <th></th>\n",
       "      <th></th>\n",
       "    </tr>\n",
       "  </thead>\n",
       "  <tbody>\n",
       "    <tr>\n",
       "      <th>1</th>\n",
       "      <td>5014431.0</td>\n",
       "      <td>6726438.0</td>\n",
       "      <td>0.745481</td>\n",
       "    </tr>\n",
       "    <tr>\n",
       "      <th>2</th>\n",
       "      <td>11966709.0</td>\n",
       "      <td>16884487.0</td>\n",
       "      <td>0.708740</td>\n",
       "    </tr>\n",
       "    <tr>\n",
       "      <th>3</th>\n",
       "      <td>5449615.0</td>\n",
       "      <td>7763910.0</td>\n",
       "      <td>0.701916</td>\n",
       "    </tr>\n",
       "    <tr>\n",
       "      <th>4</th>\n",
       "      <td>4587947.0</td>\n",
       "      <td>7270010.0</td>\n",
       "      <td>0.631078</td>\n",
       "    </tr>\n",
       "    <tr>\n",
       "      <th>5</th>\n",
       "      <td>22459316.0</td>\n",
       "      <td>36815816.0</td>\n",
       "      <td>0.610045</td>\n",
       "    </tr>\n",
       "    <tr>\n",
       "      <th>6</th>\n",
       "      <td>6320212.0</td>\n",
       "      <td>9442385.0</td>\n",
       "      <td>0.669345</td>\n",
       "    </tr>\n",
       "    <tr>\n",
       "      <th>7</th>\n",
       "      <td>2930791.0</td>\n",
       "      <td>4441303.0</td>\n",
       "      <td>0.659894</td>\n",
       "    </tr>\n",
       "  </tbody>\n",
       "</table>\n",
       "</div>"
      ],
      "text/plain": [
       "      part_rignt_answers  part_questions_asked  part_accuracy\n",
       "part                                                         \n",
       "1              5014431.0             6726438.0       0.745481\n",
       "2             11966709.0            16884487.0       0.708740\n",
       "3              5449615.0             7763910.0       0.701916\n",
       "4              4587947.0             7270010.0       0.631078\n",
       "5             22459316.0            36815816.0       0.610045\n",
       "6              6320212.0             9442385.0       0.669345\n",
       "7              2930791.0             4441303.0       0.659894"
      ]
     },
     "execution_count": 14,
     "metadata": {},
     "output_type": "execute_result"
    }
   ],
   "source": [
    "grouped_by_part_df = questions_df.groupby('part')\n",
    "part_answers_df = grouped_by_part_df.agg({'right_answers': 'sum', 'question_asked': 'sum'}).copy()\n",
    "part_answers_df.columns = ['part_rignt_answers', 'part_questions_asked']\n",
    "part_answers_df['part_accuracy'] = part_answers_df['part_rignt_answers'] / part_answers_df['part_questions_asked']\n",
    "part_answers_df"
   ]
  },
  {
   "cell_type": "code",
   "execution_count": 15,
   "metadata": {
    "execution": {
     "iopub.execute_input": "2020-10-11T07:17:27.267169Z",
     "iopub.status.busy": "2020-10-11T07:17:27.266140Z",
     "iopub.status.idle": "2020-10-11T07:17:27.269860Z",
     "shell.execute_reply": "2020-10-11T07:17:27.269229Z"
    },
    "papermill": {
     "duration": 0.098196,
     "end_time": "2020-10-11T07:17:27.269981",
     "exception": false,
     "start_time": "2020-10-11T07:17:27.171785",
     "status": "completed"
    },
    "tags": []
   },
   "outputs": [],
   "source": [
    "del train_df\n",
    "del features_part_df\n",
    "del grouped_by_user_df\n",
    "del grouped_by_content_df"
   ]
  },
  {
   "cell_type": "code",
   "execution_count": 16,
   "metadata": {
    "execution": {
     "iopub.execute_input": "2020-10-11T07:17:27.575778Z",
     "iopub.status.busy": "2020-10-11T07:17:27.574892Z",
     "iopub.status.idle": "2020-10-11T07:17:27.579475Z",
     "shell.execute_reply": "2020-10-11T07:17:27.580090Z"
    },
    "papermill": {
     "duration": 0.218425,
     "end_time": "2020-10-11T07:17:27.580243",
     "exception": false,
     "start_time": "2020-10-11T07:17:27.361818",
     "status": "completed"
    },
    "tags": []
   },
   "outputs": [
    {
     "data": {
      "text/plain": [
       "92"
      ]
     },
     "execution_count": 16,
     "metadata": {},
     "output_type": "execute_result"
    }
   ],
   "source": [
    "import gc\n",
    "gc.collect()"
   ]
  },
  {
   "cell_type": "code",
   "execution_count": 17,
   "metadata": {
    "execution": {
     "iopub.execute_input": "2020-10-11T07:17:27.759558Z",
     "iopub.status.busy": "2020-10-11T07:17:27.758818Z",
     "iopub.status.idle": "2020-10-11T07:17:27.762435Z",
     "shell.execute_reply": "2020-10-11T07:17:27.763050Z"
    },
    "papermill": {
     "duration": 0.096568,
     "end_time": "2020-10-11T07:17:27.763212",
     "exception": false,
     "start_time": "2020-10-11T07:17:27.666644",
     "status": "completed"
    },
    "tags": []
   },
   "outputs": [],
   "source": [
    "features = ['timestamp','mean_user_accuracy', 'questions_answered','mean_accuracy', 'question_asked',\n",
    "            'prior_question_elapsed_time', 'prior_question_had_explanation',\n",
    "           'bundle_size', 'bundle_accuracy','part_accuracy', 'right_answers']\n",
    "target = 'answered_correctly'"
   ]
  },
  {
   "cell_type": "code",
   "execution_count": 18,
   "metadata": {
    "execution": {
     "iopub.execute_input": "2020-10-11T07:17:27.941921Z",
     "iopub.status.busy": "2020-10-11T07:17:27.941154Z",
     "iopub.status.idle": "2020-10-11T07:17:28.389805Z",
     "shell.execute_reply": "2020-10-11T07:17:28.389143Z"
    },
    "papermill": {
     "duration": 0.539919,
     "end_time": "2020-10-11T07:17:28.389940",
     "exception": false,
     "start_time": "2020-10-11T07:17:27.850021",
     "status": "completed"
    },
    "tags": []
   },
   "outputs": [],
   "source": [
    "train_part_df = train_part_df[train_part_df[target] != -1]"
   ]
  },
  {
   "cell_type": "code",
   "execution_count": 19,
   "metadata": {},
   "outputs": [
    {
     "data": {
      "text/html": [
       "<div>\n",
       "<style scoped>\n",
       "    .dataframe tbody tr th:only-of-type {\n",
       "        vertical-align: middle;\n",
       "    }\n",
       "\n",
       "    .dataframe tbody tr th {\n",
       "        vertical-align: top;\n",
       "    }\n",
       "\n",
       "    .dataframe thead th {\n",
       "        text-align: right;\n",
       "    }\n",
       "</style>\n",
       "<table border=\"1\" class=\"dataframe\">\n",
       "  <thead>\n",
       "    <tr style=\"text-align: right;\">\n",
       "      <th></th>\n",
       "      <th>timestamp</th>\n",
       "      <th>user_id</th>\n",
       "      <th>content_id</th>\n",
       "      <th>content_type_id</th>\n",
       "      <th>answered_correctly</th>\n",
       "      <th>prior_question_elapsed_time</th>\n",
       "      <th>prior_question_had_explanation</th>\n",
       "    </tr>\n",
       "    <tr>\n",
       "      <th>row_id</th>\n",
       "      <th></th>\n",
       "      <th></th>\n",
       "      <th></th>\n",
       "      <th></th>\n",
       "      <th></th>\n",
       "      <th></th>\n",
       "      <th></th>\n",
       "    </tr>\n",
       "  </thead>\n",
       "  <tbody>\n",
       "    <tr>\n",
       "      <th>91107298</th>\n",
       "      <td>8231964660</td>\n",
       "      <td>1933715875</td>\n",
       "      <td>11259</td>\n",
       "      <td>0</td>\n",
       "      <td>0</td>\n",
       "      <td>13000.0</td>\n",
       "      <td>True</td>\n",
       "    </tr>\n",
       "    <tr>\n",
       "      <th>91107299</th>\n",
       "      <td>8232002976</td>\n",
       "      <td>1933715875</td>\n",
       "      <td>4957</td>\n",
       "      <td>0</td>\n",
       "      <td>1</td>\n",
       "      <td>44000.0</td>\n",
       "      <td>True</td>\n",
       "    </tr>\n",
       "    <tr>\n",
       "      <th>91107300</th>\n",
       "      <td>8232096407</td>\n",
       "      <td>1933715875</td>\n",
       "      <td>5113</td>\n",
       "      <td>0</td>\n",
       "      <td>1</td>\n",
       "      <td>22000.0</td>\n",
       "      <td>True</td>\n",
       "    </tr>\n",
       "    <tr>\n",
       "      <th>91107301</th>\n",
       "      <td>8232119872</td>\n",
       "      <td>1933715875</td>\n",
       "      <td>4699</td>\n",
       "      <td>0</td>\n",
       "      <td>1</td>\n",
       "      <td>inf</td>\n",
       "      <td>True</td>\n",
       "    </tr>\n",
       "    <tr>\n",
       "      <th>91107302</th>\n",
       "      <td>8232142930</td>\n",
       "      <td>1933715875</td>\n",
       "      <td>11430</td>\n",
       "      <td>0</td>\n",
       "      <td>1</td>\n",
       "      <td>9000.0</td>\n",
       "      <td>True</td>\n",
       "    </tr>\n",
       "    <tr>\n",
       "      <th>...</th>\n",
       "      <td>...</td>\n",
       "      <td>...</td>\n",
       "      <td>...</td>\n",
       "      <td>...</td>\n",
       "      <td>...</td>\n",
       "      <td>...</td>\n",
       "      <td>...</td>\n",
       "    </tr>\n",
       "    <tr>\n",
       "      <th>101230327</th>\n",
       "      <td>428564420</td>\n",
       "      <td>2147482888</td>\n",
       "      <td>3586</td>\n",
       "      <td>0</td>\n",
       "      <td>1</td>\n",
       "      <td>18000.0</td>\n",
       "      <td>True</td>\n",
       "    </tr>\n",
       "    <tr>\n",
       "      <th>101230328</th>\n",
       "      <td>428585000</td>\n",
       "      <td>2147482888</td>\n",
       "      <td>6341</td>\n",
       "      <td>0</td>\n",
       "      <td>1</td>\n",
       "      <td>14000.0</td>\n",
       "      <td>True</td>\n",
       "    </tr>\n",
       "    <tr>\n",
       "      <th>101230329</th>\n",
       "      <td>428613475</td>\n",
       "      <td>2147482888</td>\n",
       "      <td>4212</td>\n",
       "      <td>0</td>\n",
       "      <td>1</td>\n",
       "      <td>14000.0</td>\n",
       "      <td>True</td>\n",
       "    </tr>\n",
       "    <tr>\n",
       "      <th>101230330</th>\n",
       "      <td>428649406</td>\n",
       "      <td>2147482888</td>\n",
       "      <td>6343</td>\n",
       "      <td>0</td>\n",
       "      <td>0</td>\n",
       "      <td>22000.0</td>\n",
       "      <td>True</td>\n",
       "    </tr>\n",
       "    <tr>\n",
       "      <th>101230331</th>\n",
       "      <td>428692118</td>\n",
       "      <td>2147482888</td>\n",
       "      <td>7995</td>\n",
       "      <td>0</td>\n",
       "      <td>1</td>\n",
       "      <td>28992.0</td>\n",
       "      <td>True</td>\n",
       "    </tr>\n",
       "  </tbody>\n",
       "</table>\n",
       "<p>9926951 rows × 7 columns</p>\n",
       "</div>"
      ],
      "text/plain": [
       "            timestamp     user_id  content_id  content_type_id  \\\n",
       "row_id                                                           \n",
       "91107298   8231964660  1933715875       11259                0   \n",
       "91107299   8232002976  1933715875        4957                0   \n",
       "91107300   8232096407  1933715875        5113                0   \n",
       "91107301   8232119872  1933715875        4699                0   \n",
       "91107302   8232142930  1933715875       11430                0   \n",
       "...               ...         ...         ...              ...   \n",
       "101230327   428564420  2147482888        3586                0   \n",
       "101230328   428585000  2147482888        6341                0   \n",
       "101230329   428613475  2147482888        4212                0   \n",
       "101230330   428649406  2147482888        6343                0   \n",
       "101230331   428692118  2147482888        7995                0   \n",
       "\n",
       "           answered_correctly  prior_question_elapsed_time  \\\n",
       "row_id                                                       \n",
       "91107298                    0                      13000.0   \n",
       "91107299                    1                      44000.0   \n",
       "91107300                    1                      22000.0   \n",
       "91107301                    1                          inf   \n",
       "91107302                    1                       9000.0   \n",
       "...                       ...                          ...   \n",
       "101230327                   1                      18000.0   \n",
       "101230328                   1                      14000.0   \n",
       "101230329                   1                      14000.0   \n",
       "101230330                   0                      22000.0   \n",
       "101230331                   1                      28992.0   \n",
       "\n",
       "           prior_question_had_explanation  \n",
       "row_id                                     \n",
       "91107298                             True  \n",
       "91107299                             True  \n",
       "91107300                             True  \n",
       "91107301                             True  \n",
       "91107302                             True  \n",
       "...                                   ...  \n",
       "101230327                            True  \n",
       "101230328                            True  \n",
       "101230329                            True  \n",
       "101230330                            True  \n",
       "101230331                            True  \n",
       "\n",
       "[9926951 rows x 7 columns]"
      ]
     },
     "execution_count": 19,
     "metadata": {},
     "output_type": "execute_result"
    }
   ],
   "source": [
    "train_part_df"
   ]
  },
  {
   "cell_type": "code",
   "execution_count": 20,
   "metadata": {
    "execution": {
     "iopub.execute_input": "2020-10-11T07:17:28.570529Z",
     "iopub.status.busy": "2020-10-11T07:17:28.569767Z",
     "iopub.status.idle": "2020-10-11T07:17:37.808110Z",
     "shell.execute_reply": "2020-10-11T07:17:37.807436Z"
    },
    "papermill": {
     "duration": 9.331954,
     "end_time": "2020-10-11T07:17:37.808266",
     "exception": false,
     "start_time": "2020-10-11T07:17:28.476312",
     "status": "completed"
    },
    "tags": []
   },
   "outputs": [],
   "source": [
    "train_part_df = train_part_df.merge(user_answers_df, how = 'left', on = 'user_id')\n",
    "train_part_df = train_part_df.merge(questions_df, how = 'left', left_on = 'content_id', right_on = 'question_id')\n",
    "train_part_df = train_part_df.merge(bundle_answers_df, how = 'left', on = 'bundle_id')\n",
    "train_part_df = train_part_df.merge(part_answers_df, how = 'left', on = 'part')"
   ]
  },
  {
   "cell_type": "code",
   "execution_count": 21,
   "metadata": {
    "execution": {
     "iopub.execute_input": "2020-10-11T07:17:37.993046Z",
     "iopub.status.busy": "2020-10-11T07:17:37.992189Z",
     "iopub.status.idle": "2020-10-11T07:17:39.426003Z",
     "shell.execute_reply": "2020-10-11T07:17:39.426648Z"
    },
    "papermill": {
     "duration": 1.5296,
     "end_time": "2020-10-11T07:17:39.426861",
     "exception": false,
     "start_time": "2020-10-11T07:17:37.897261",
     "status": "completed"
    },
    "tags": []
   },
   "outputs": [],
   "source": [
    "train_part_df['prior_question_had_explanation'] = train_part_df['prior_question_had_explanation'].fillna(value = False).astype(bool)\n",
    "train_part_df.fillna(value = -1, inplace = True)"
   ]
  },
  {
   "cell_type": "code",
   "execution_count": 22,
   "metadata": {
    "execution": {
     "iopub.execute_input": "2020-10-11T07:17:39.613102Z",
     "iopub.status.busy": "2020-10-11T07:17:39.612204Z",
     "iopub.status.idle": "2020-10-11T07:17:39.616607Z",
     "shell.execute_reply": "2020-10-11T07:17:39.617172Z"
    },
    "papermill": {
     "duration": 0.099804,
     "end_time": "2020-10-11T07:17:39.617340",
     "exception": false,
     "start_time": "2020-10-11T07:17:39.517536",
     "status": "completed"
    },
    "tags": []
   },
   "outputs": [
    {
     "data": {
      "text/plain": [
       "Index(['timestamp', 'user_id', 'content_id', 'content_type_id',\n",
       "       'answered_correctly', 'prior_question_elapsed_time',\n",
       "       'prior_question_had_explanation', 'mean_user_accuracy',\n",
       "       'questions_answered', 'question_id', 'bundle_id', 'correct_answer',\n",
       "       'part', 'tags', 'mean_accuracy', 'question_asked', 'right_answers',\n",
       "       'bundle_size', 'bundle_rignt_answers', 'bundle_questions_asked',\n",
       "       'bundle_accuracy', 'part_rignt_answers', 'part_questions_asked',\n",
       "       'part_accuracy'],\n",
       "      dtype='object')"
      ]
     },
     "execution_count": 22,
     "metadata": {},
     "output_type": "execute_result"
    }
   ],
   "source": [
    "train_part_df.columns"
   ]
  },
  {
   "cell_type": "code",
   "execution_count": 23,
   "metadata": {
    "execution": {
     "iopub.execute_input": "2020-10-11T07:17:39.803720Z",
     "iopub.status.busy": "2020-10-11T07:17:39.802962Z",
     "iopub.status.idle": "2020-10-11T07:17:41.150263Z",
     "shell.execute_reply": "2020-10-11T07:17:41.150898Z"
    },
    "papermill": {
     "duration": 1.443758,
     "end_time": "2020-10-11T07:17:41.151078",
     "exception": false,
     "start_time": "2020-10-11T07:17:39.707320",
     "status": "completed"
    },
    "tags": []
   },
   "outputs": [],
   "source": [
    "train_part_df = train_part_df[features + [target]]"
   ]
  },
  {
   "cell_type": "code",
   "execution_count": 24,
   "metadata": {
    "execution": {
     "iopub.execute_input": "2020-10-11T07:17:41.361449Z",
     "iopub.status.busy": "2020-10-11T07:17:41.348424Z",
     "iopub.status.idle": "2020-10-11T07:17:41.367114Z",
     "shell.execute_reply": "2020-10-11T07:17:41.366486Z"
    },
    "papermill": {
     "duration": 0.12769,
     "end_time": "2020-10-11T07:17:41.367239",
     "exception": false,
     "start_time": "2020-10-11T07:17:41.239549",
     "status": "completed"
    },
    "tags": []
   },
   "outputs": [
    {
     "data": {
      "text/html": [
       "<div>\n",
       "<style scoped>\n",
       "    .dataframe tbody tr th:only-of-type {\n",
       "        vertical-align: middle;\n",
       "    }\n",
       "\n",
       "    .dataframe tbody tr th {\n",
       "        vertical-align: top;\n",
       "    }\n",
       "\n",
       "    .dataframe thead th {\n",
       "        text-align: right;\n",
       "    }\n",
       "</style>\n",
       "<table border=\"1\" class=\"dataframe\">\n",
       "  <thead>\n",
       "    <tr style=\"text-align: right;\">\n",
       "      <th></th>\n",
       "      <th>timestamp</th>\n",
       "      <th>mean_user_accuracy</th>\n",
       "      <th>questions_answered</th>\n",
       "      <th>mean_accuracy</th>\n",
       "      <th>question_asked</th>\n",
       "      <th>prior_question_elapsed_time</th>\n",
       "      <th>prior_question_had_explanation</th>\n",
       "      <th>bundle_size</th>\n",
       "      <th>bundle_accuracy</th>\n",
       "      <th>part_accuracy</th>\n",
       "      <th>right_answers</th>\n",
       "      <th>answered_correctly</th>\n",
       "    </tr>\n",
       "  </thead>\n",
       "  <tbody>\n",
       "    <tr>\n",
       "      <th>0</th>\n",
       "      <td>8231964660</td>\n",
       "      <td>0.779843</td>\n",
       "      <td>5219.0</td>\n",
       "      <td>0.532146</td>\n",
       "      <td>1291.0</td>\n",
       "      <td>13000.0</td>\n",
       "      <td>True</td>\n",
       "      <td>1</td>\n",
       "      <td>0.532146</td>\n",
       "      <td>0.610045</td>\n",
       "      <td>687.0</td>\n",
       "      <td>0</td>\n",
       "    </tr>\n",
       "    <tr>\n",
       "      <th>1</th>\n",
       "      <td>8232002976</td>\n",
       "      <td>0.779843</td>\n",
       "      <td>5219.0</td>\n",
       "      <td>0.584772</td>\n",
       "      <td>2548.0</td>\n",
       "      <td>44000.0</td>\n",
       "      <td>True</td>\n",
       "      <td>1</td>\n",
       "      <td>0.584772</td>\n",
       "      <td>0.610045</td>\n",
       "      <td>1490.0</td>\n",
       "      <td>1</td>\n",
       "    </tr>\n",
       "    <tr>\n",
       "      <th>2</th>\n",
       "      <td>8232096407</td>\n",
       "      <td>0.779843</td>\n",
       "      <td>5219.0</td>\n",
       "      <td>0.603571</td>\n",
       "      <td>1960.0</td>\n",
       "      <td>22000.0</td>\n",
       "      <td>True</td>\n",
       "      <td>1</td>\n",
       "      <td>0.603571</td>\n",
       "      <td>0.610045</td>\n",
       "      <td>1183.0</td>\n",
       "      <td>1</td>\n",
       "    </tr>\n",
       "    <tr>\n",
       "      <th>3</th>\n",
       "      <td>8232119872</td>\n",
       "      <td>0.779843</td>\n",
       "      <td>5219.0</td>\n",
       "      <td>0.694888</td>\n",
       "      <td>2504.0</td>\n",
       "      <td>inf</td>\n",
       "      <td>True</td>\n",
       "      <td>1</td>\n",
       "      <td>0.694888</td>\n",
       "      <td>0.610045</td>\n",
       "      <td>1740.0</td>\n",
       "      <td>1</td>\n",
       "    </tr>\n",
       "    <tr>\n",
       "      <th>4</th>\n",
       "      <td>8232142930</td>\n",
       "      <td>0.779843</td>\n",
       "      <td>5219.0</td>\n",
       "      <td>0.765869</td>\n",
       "      <td>1922.0</td>\n",
       "      <td>9000.0</td>\n",
       "      <td>True</td>\n",
       "      <td>1</td>\n",
       "      <td>0.765869</td>\n",
       "      <td>0.610045</td>\n",
       "      <td>1472.0</td>\n",
       "      <td>1</td>\n",
       "    </tr>\n",
       "    <tr>\n",
       "      <th>...</th>\n",
       "      <td>...</td>\n",
       "      <td>...</td>\n",
       "      <td>...</td>\n",
       "      <td>...</td>\n",
       "      <td>...</td>\n",
       "      <td>...</td>\n",
       "      <td>...</td>\n",
       "      <td>...</td>\n",
       "      <td>...</td>\n",
       "      <td>...</td>\n",
       "      <td>...</td>\n",
       "      <td>...</td>\n",
       "    </tr>\n",
       "    <tr>\n",
       "      <th>9926946</th>\n",
       "      <td>428564420</td>\n",
       "      <td>-1.000000</td>\n",
       "      <td>-1.0</td>\n",
       "      <td>0.738732</td>\n",
       "      <td>3927.0</td>\n",
       "      <td>18000.0</td>\n",
       "      <td>True</td>\n",
       "      <td>1</td>\n",
       "      <td>0.738732</td>\n",
       "      <td>0.610045</td>\n",
       "      <td>2901.0</td>\n",
       "      <td>1</td>\n",
       "    </tr>\n",
       "    <tr>\n",
       "      <th>9926947</th>\n",
       "      <td>428585000</td>\n",
       "      <td>-1.000000</td>\n",
       "      <td>-1.0</td>\n",
       "      <td>0.524581</td>\n",
       "      <td>9194.0</td>\n",
       "      <td>14000.0</td>\n",
       "      <td>True</td>\n",
       "      <td>1</td>\n",
       "      <td>0.524581</td>\n",
       "      <td>0.610045</td>\n",
       "      <td>4823.0</td>\n",
       "      <td>1</td>\n",
       "    </tr>\n",
       "    <tr>\n",
       "      <th>9926948</th>\n",
       "      <td>428613475</td>\n",
       "      <td>-1.000000</td>\n",
       "      <td>-1.0</td>\n",
       "      <td>0.616455</td>\n",
       "      <td>28174.0</td>\n",
       "      <td>14000.0</td>\n",
       "      <td>True</td>\n",
       "      <td>1</td>\n",
       "      <td>0.616455</td>\n",
       "      <td>0.610045</td>\n",
       "      <td>17368.0</td>\n",
       "      <td>1</td>\n",
       "    </tr>\n",
       "    <tr>\n",
       "      <th>9926949</th>\n",
       "      <td>428649406</td>\n",
       "      <td>-1.000000</td>\n",
       "      <td>-1.0</td>\n",
       "      <td>0.660559</td>\n",
       "      <td>5185.0</td>\n",
       "      <td>22000.0</td>\n",
       "      <td>True</td>\n",
       "      <td>1</td>\n",
       "      <td>0.660559</td>\n",
       "      <td>0.610045</td>\n",
       "      <td>3425.0</td>\n",
       "      <td>0</td>\n",
       "    </tr>\n",
       "    <tr>\n",
       "      <th>9926950</th>\n",
       "      <td>428692118</td>\n",
       "      <td>-1.000000</td>\n",
       "      <td>-1.0</td>\n",
       "      <td>0.657680</td>\n",
       "      <td>5638.0</td>\n",
       "      <td>28992.0</td>\n",
       "      <td>True</td>\n",
       "      <td>1</td>\n",
       "      <td>0.657680</td>\n",
       "      <td>0.610045</td>\n",
       "      <td>3708.0</td>\n",
       "      <td>1</td>\n",
       "    </tr>\n",
       "  </tbody>\n",
       "</table>\n",
       "<p>9926951 rows × 12 columns</p>\n",
       "</div>"
      ],
      "text/plain": [
       "          timestamp  mean_user_accuracy  questions_answered  mean_accuracy  \\\n",
       "0        8231964660            0.779843              5219.0       0.532146   \n",
       "1        8232002976            0.779843              5219.0       0.584772   \n",
       "2        8232096407            0.779843              5219.0       0.603571   \n",
       "3        8232119872            0.779843              5219.0       0.694888   \n",
       "4        8232142930            0.779843              5219.0       0.765869   \n",
       "...             ...                 ...                 ...            ...   \n",
       "9926946   428564420           -1.000000                -1.0       0.738732   \n",
       "9926947   428585000           -1.000000                -1.0       0.524581   \n",
       "9926948   428613475           -1.000000                -1.0       0.616455   \n",
       "9926949   428649406           -1.000000                -1.0       0.660559   \n",
       "9926950   428692118           -1.000000                -1.0       0.657680   \n",
       "\n",
       "         question_asked  prior_question_elapsed_time  \\\n",
       "0                1291.0                      13000.0   \n",
       "1                2548.0                      44000.0   \n",
       "2                1960.0                      22000.0   \n",
       "3                2504.0                          inf   \n",
       "4                1922.0                       9000.0   \n",
       "...                 ...                          ...   \n",
       "9926946          3927.0                      18000.0   \n",
       "9926947          9194.0                      14000.0   \n",
       "9926948         28174.0                      14000.0   \n",
       "9926949          5185.0                      22000.0   \n",
       "9926950          5638.0                      28992.0   \n",
       "\n",
       "         prior_question_had_explanation  bundle_size  bundle_accuracy  \\\n",
       "0                                  True            1         0.532146   \n",
       "1                                  True            1         0.584772   \n",
       "2                                  True            1         0.603571   \n",
       "3                                  True            1         0.694888   \n",
       "4                                  True            1         0.765869   \n",
       "...                                 ...          ...              ...   \n",
       "9926946                            True            1         0.738732   \n",
       "9926947                            True            1         0.524581   \n",
       "9926948                            True            1         0.616455   \n",
       "9926949                            True            1         0.660559   \n",
       "9926950                            True            1         0.657680   \n",
       "\n",
       "         part_accuracy  right_answers  answered_correctly  \n",
       "0             0.610045          687.0                   0  \n",
       "1             0.610045         1490.0                   1  \n",
       "2             0.610045         1183.0                   1  \n",
       "3             0.610045         1740.0                   1  \n",
       "4             0.610045         1472.0                   1  \n",
       "...                ...            ...                 ...  \n",
       "9926946       0.610045         2901.0                   1  \n",
       "9926947       0.610045         4823.0                   1  \n",
       "9926948       0.610045        17368.0                   1  \n",
       "9926949       0.610045         3425.0                   0  \n",
       "9926950       0.610045         3708.0                   1  \n",
       "\n",
       "[9926951 rows x 12 columns]"
      ]
     },
     "execution_count": 24,
     "metadata": {},
     "output_type": "execute_result"
    }
   ],
   "source": [
    "train_part_df"
   ]
  },
  {
   "cell_type": "code",
   "execution_count": 29,
   "metadata": {
    "execution": {
     "iopub.execute_input": "2020-10-11T07:17:41.551538Z",
     "iopub.status.busy": "2020-10-11T07:17:41.550598Z",
     "iopub.status.idle": "2020-10-11T07:17:41.674489Z",
     "shell.execute_reply": "2020-10-11T07:17:41.673853Z"
    },
    "papermill": {
     "duration": 0.217716,
     "end_time": "2020-10-11T07:17:41.674622",
     "exception": false,
     "start_time": "2020-10-11T07:17:41.456906",
     "status": "completed"
    },
    "tags": []
   },
   "outputs": [],
   "source": [
    "from sklearn.metrics import roc_auc_score"
   ]
  },
  {
   "cell_type": "code",
   "execution_count": 31,
   "metadata": {
    "execution": {
     "iopub.execute_input": "2020-10-11T07:17:41.858413Z",
     "iopub.status.busy": "2020-10-11T07:17:41.857566Z",
     "iopub.status.idle": "2020-10-11T07:17:41.918047Z",
     "shell.execute_reply": "2020-10-11T07:17:41.917217Z"
    },
    "papermill": {
     "duration": 0.154221,
     "end_time": "2020-10-11T07:17:41.918179",
     "exception": false,
     "start_time": "2020-10-11T07:17:41.763958",
     "status": "completed"
    },
    "tags": []
   },
   "outputs": [],
   "source": [
    "from lightgbm import LGBMClassifier"
   ]
  },
  {
   "cell_type": "code",
   "execution_count": 32,
   "metadata": {
    "execution": {
     "iopub.execute_input": "2020-10-11T07:17:42.103498Z",
     "iopub.status.busy": "2020-10-11T07:17:42.102516Z",
     "iopub.status.idle": "2020-10-11T07:17:42.105661Z",
     "shell.execute_reply": "2020-10-11T07:17:42.104966Z"
    },
    "papermill": {
     "duration": 0.098395,
     "end_time": "2020-10-11T07:17:42.105824",
     "exception": false,
     "start_time": "2020-10-11T07:17:42.007429",
     "status": "completed"
    },
    "tags": []
   },
   "outputs": [],
   "source": [
    "lgbm = LGBMClassifier(\n",
    "    num_leaves=31, \n",
    "    max_depth= 2, \n",
    "    n_estimators = 25, \n",
    "    min_child_samples = 1000, \n",
    "    subsample=0.7, \n",
    "    subsample_freq=5,\n",
    "    n_jobs= -1,\n",
    "    is_higher_better = True,\n",
    "    first_metric_only = True\n",
    ")"
   ]
  },
  {
   "cell_type": "code",
   "execution_count": 33,
   "metadata": {
    "execution": {
     "iopub.execute_input": "2020-10-11T07:17:42.549964Z",
     "iopub.status.busy": "2020-10-11T07:17:42.350424Z",
     "iopub.status.idle": "2020-10-11T07:18:15.732617Z",
     "shell.execute_reply": "2020-10-11T07:18:15.733348Z"
    },
    "papermill": {
     "duration": 33.534778,
     "end_time": "2020-10-11T07:18:15.733530",
     "exception": false,
     "start_time": "2020-10-11T07:17:42.198752",
     "status": "completed"
    },
    "tags": []
   },
   "outputs": [
    {
     "name": "stdout",
     "output_type": "stream",
     "text": [
      "[LightGBM] [Warning] Unknown parameter: is_higher_better\n"
     ]
    },
    {
     "data": {
      "text/plain": [
       "LGBMClassifier(boosting_type='gbdt', class_weight=None, colsample_bytree=1.0,\n",
       "               first_metric_only=True, importance_type='split',\n",
       "               is_higher_better=True, learning_rate=0.1, max_depth=2,\n",
       "               min_child_samples=1000, min_child_weight=0.001,\n",
       "               min_split_gain=0.0, n_estimators=25, n_jobs=-1, num_leaves=31,\n",
       "               objective=None, random_state=None, reg_alpha=0.0, reg_lambda=0.0,\n",
       "               silent=True, subsample=0.7, subsample_for_bin=200000,\n",
       "               subsample_freq=5)"
      ]
     },
     "execution_count": 33,
     "metadata": {},
     "output_type": "execute_result"
    }
   ],
   "source": [
    "lgbm.fit(train_part_df[features], train_part_df[target])"
   ]
  },
  {
   "cell_type": "code",
   "execution_count": 34,
   "metadata": {
    "execution": {
     "iopub.execute_input": "2020-10-11T07:18:16.167703Z",
     "iopub.status.busy": "2020-10-11T07:18:16.166880Z",
     "iopub.status.idle": "2020-10-11T07:18:40.417132Z",
     "shell.execute_reply": "2020-10-11T07:18:40.416520Z"
    },
    "papermill": {
     "duration": 24.577337,
     "end_time": "2020-10-11T07:18:40.417260",
     "exception": false,
     "start_time": "2020-10-11T07:18:15.839923",
     "status": "completed"
    },
    "tags": []
   },
   "outputs": [
    {
     "data": {
      "text/plain": [
       "0.7181438826783001"
      ]
     },
     "execution_count": 34,
     "metadata": {},
     "output_type": "execute_result"
    }
   ],
   "source": [
    "roc_auc_score(train_part_df[target].values, lgbm.predict_proba(train_part_df[features])[:,1])"
   ]
  },
  {
   "cell_type": "code",
   "execution_count": 35,
   "metadata": {
    "execution": {
     "iopub.execute_input": "2020-10-11T07:18:40.603929Z",
     "iopub.status.busy": "2020-10-11T07:18:40.602949Z",
     "iopub.status.idle": "2020-10-11T07:18:40.613736Z",
     "shell.execute_reply": "2020-10-11T07:18:40.612983Z"
    },
    "papermill": {
     "duration": 0.105625,
     "end_time": "2020-10-11T07:18:40.613868",
     "exception": false,
     "start_time": "2020-10-11T07:18:40.508243",
     "status": "completed"
    },
    "tags": []
   },
   "outputs": [
    {
     "ename": "ModuleNotFoundError",
     "evalue": "No module named 'riiideducation.competition'",
     "output_type": "error",
     "traceback": [
      "\u001b[0;31m---------------------------------------------------------------------------\u001b[0m",
      "\u001b[0;31mModuleNotFoundError\u001b[0m                       Traceback (most recent call last)",
      "\u001b[0;32m<ipython-input-35-ed3122bcc316>\u001b[0m in \u001b[0;36m<module>\u001b[0;34m\u001b[0m\n\u001b[0;32m----> 1\u001b[0;31m \u001b[0;32mimport\u001b[0m \u001b[0mriiideducation\u001b[0m\u001b[0;34m\u001b[0m\u001b[0;34m\u001b[0m\u001b[0m\n\u001b[0m\u001b[1;32m      2\u001b[0m \u001b[0;34m\u001b[0m\u001b[0m\n\u001b[1;32m      3\u001b[0m \u001b[0menv\u001b[0m \u001b[0;34m=\u001b[0m \u001b[0mriiideducation\u001b[0m\u001b[0;34m.\u001b[0m\u001b[0mmake_env\u001b[0m\u001b[0;34m(\u001b[0m\u001b[0;34m)\u001b[0m\u001b[0;34m\u001b[0m\u001b[0;34m\u001b[0m\u001b[0m\n",
      "\u001b[0;32m~/kaggle/riiideducation/__init__.py\u001b[0m in \u001b[0;36m<module>\u001b[0;34m\u001b[0m\n\u001b[1;32m      1\u001b[0m \u001b[0;34m\u001b[0m\u001b[0m\n\u001b[0;32m----> 2\u001b[0;31m \u001b[0;32mfrom\u001b[0m \u001b[0;34m.\u001b[0m\u001b[0mcompetition\u001b[0m \u001b[0;32mimport\u001b[0m \u001b[0mmake_env\u001b[0m\u001b[0;34m\u001b[0m\u001b[0;34m\u001b[0m\u001b[0m\n\u001b[0m\u001b[1;32m      3\u001b[0m \u001b[0;34m\u001b[0m\u001b[0m\n\u001b[1;32m      4\u001b[0m \u001b[0m__all__\u001b[0m \u001b[0;34m=\u001b[0m \u001b[0;34m[\u001b[0m\u001b[0;34m'make_env'\u001b[0m\u001b[0;34m]\u001b[0m\u001b[0;34m\u001b[0m\u001b[0;34m\u001b[0m\u001b[0m\n",
      "\u001b[0;31mModuleNotFoundError\u001b[0m: No module named 'riiideducation.competition'"
     ]
    }
   ],
   "source": [
    "import riiideducation\n",
    "\n",
    "env = riiideducation.make_env()"
   ]
  },
  {
   "cell_type": "code",
   "execution_count": 58,
   "metadata": {
    "execution": {
     "iopub.execute_input": "2020-10-11T07:18:40.800878Z",
     "iopub.status.busy": "2020-10-11T07:18:40.799823Z",
     "iopub.status.idle": "2020-10-11T07:18:40.803479Z",
     "shell.execute_reply": "2020-10-11T07:18:40.802772Z"
    },
    "papermill": {
     "duration": 0.098863,
     "end_time": "2020-10-11T07:18:40.803600",
     "exception": false,
     "start_time": "2020-10-11T07:18:40.704737",
     "status": "completed"
    },
    "tags": []
   },
   "outputs": [],
   "source": [
    "iter_test = env.iter_test()"
   ]
  },
  {
   "cell_type": "code",
   "execution_count": 59,
   "metadata": {
    "execution": {
     "iopub.execute_input": "2020-10-11T07:18:40.999195Z",
     "iopub.status.busy": "2020-10-11T07:18:40.995738Z",
     "iopub.status.idle": "2020-10-11T07:18:41.806336Z",
     "shell.execute_reply": "2020-10-11T07:18:41.805656Z"
    },
    "papermill": {
     "duration": 0.910967,
     "end_time": "2020-10-11T07:18:41.806466",
     "exception": false,
     "start_time": "2020-10-11T07:18:40.895499",
     "status": "completed"
    },
    "tags": []
   },
   "outputs": [],
   "source": [
    "for (test_df, sample_prediction_df) in iter_test:\n",
    "    test_df = test_df.merge(user_answers_df, how = 'left', on = 'user_id')\n",
    "    test_df = test_df.merge(questions_df, how = 'left', left_on = 'content_id', right_on = 'question_id')\n",
    "    test_df = test_df.merge(bundle_answers_df, how = 'left', on = 'bundle_id')\n",
    "    test_df = test_df.merge(part_answers_df, how = 'left', on = 'part')\n",
    "    \n",
    "    test_df['prior_question_had_explanation'] = test_df['prior_question_had_explanation'].fillna(value = False).astype(bool)\n",
    "    test_df.fillna(value = -1, inplace = True)\n",
    "\n",
    "    test_df['answered_correctly'] = lgbm.predict_proba(test_df[features])[:,1]\n",
    "    env.predict(test_df.loc[test_df['content_type_id'] == 0, ['row_id', 'answered_correctly']])"
   ]
  }
 ],
 "metadata": {
  "kernelspec": {
   "display_name": "Python 3",
   "language": "python",
   "name": "python3"
  },
  "language_info": {
   "codemirror_mode": {
    "name": "ipython",
    "version": 3
   },
   "file_extension": ".py",
   "mimetype": "text/x-python",
   "name": "python",
   "nbconvert_exporter": "python",
   "pygments_lexer": "ipython3",
   "version": "3.7.6"
  },
  "papermill": {
   "duration": 443.244318,
   "end_time": "2020-10-11T07:18:42.106917",
   "environment_variables": {},
   "exception": null,
   "input_path": "__notebook__.ipynb",
   "output_path": "__notebook__.ipynb",
   "parameters": {},
   "start_time": "2020-10-11T07:11:18.862599",
   "version": "2.1.0"
  }
 },
 "nbformat": 4,
 "nbformat_minor": 4
}
